{
  "cells": [
    {
      "cell_type": "markdown",
      "metadata": {
        "id": "eGnoUdk1Capt"
      },
      "source": [
        "[![Colab](https://colab.research.google.com/assets/colab-badge.svg)](https://colab.research.google.com/github/opengeos/GeoAI-Tutorials/blob/main/docs/PDFM/map_pdfm_features.ipynb)\n",
        "\n",
        "**Mapping PDFM Features and Predicted Housing Prices**\n",
        "\n",
        "## Useful Resources\n",
        "\n",
        "- [Google's Population Dynamics Foundation Model (PDFM)](https://github.com/google-research/population-dynamics)\n",
        "- Request access to PDFM embeddings [here](https://github.com/google-research/population-dynamics?tab=readme-ov-file#getting-access-to-the-embeddings)\n",
        "- Zillow data can be accessed [here](https://www.zillow.com/research/data/)\n",
        "\n",
        "## Installation\n",
        "\n",
        "Uncomment and run the following cell to install the required libraries."
      ]
    },
    {
      "cell_type": "code",
      "execution_count": 1,
      "metadata": {
        "id": "-lEMuYtZCapx",
        "outputId": "aad4d9f6-a269-4fa2-9179-70136d841dbd",
        "colab": {
          "base_uri": "https://localhost:8080/"
        }
      },
      "outputs": [
        {
          "output_type": "stream",
          "name": "stdout",
          "text": [
            "Requirement already satisfied: scikit-learn in /usr/local/lib/python3.11/dist-packages (1.6.1)\n",
            "Collecting leafmap[maplibre]\n",
            "  Downloading leafmap-0.42.9-py2.py3-none-any.whl.metadata (16 kB)\n",
            "Collecting anywidget (from leafmap[maplibre])\n",
            "  Downloading anywidget-0.9.13-py3-none-any.whl.metadata (7.2 kB)\n",
            "Requirement already satisfied: bqplot in /usr/local/lib/python3.11/dist-packages (from leafmap[maplibre]) (0.12.44)\n",
            "Requirement already satisfied: colour in /usr/local/lib/python3.11/dist-packages (from leafmap[maplibre]) (0.1.5)\n",
            "Requirement already satisfied: duckdb in /usr/local/lib/python3.11/dist-packages (from leafmap[maplibre]) (1.1.3)\n",
            "Requirement already satisfied: folium in /usr/local/lib/python3.11/dist-packages (from leafmap[maplibre]) (0.19.4)\n",
            "Requirement already satisfied: gdown in /usr/local/lib/python3.11/dist-packages (from leafmap[maplibre]) (5.2.0)\n",
            "Collecting geojson (from leafmap[maplibre])\n",
            "  Downloading geojson-3.2.0-py3-none-any.whl.metadata (16 kB)\n",
            "Requirement already satisfied: ipyevents in /usr/local/lib/python3.11/dist-packages (from leafmap[maplibre]) (2.0.2)\n",
            "Requirement already satisfied: ipyfilechooser in /usr/local/lib/python3.11/dist-packages (from leafmap[maplibre]) (0.6.0)\n",
            "Requirement already satisfied: ipyleaflet in /usr/local/lib/python3.11/dist-packages (from leafmap[maplibre]) (0.19.2)\n",
            "Collecting ipyvuetify (from leafmap[maplibre])\n",
            "  Downloading ipyvuetify-1.10.0-py2.py3-none-any.whl.metadata (7.5 kB)\n",
            "Requirement already satisfied: ipywidgets in /usr/local/lib/python3.11/dist-packages (from leafmap[maplibre]) (7.7.1)\n",
            "Requirement already satisfied: matplotlib in /usr/local/lib/python3.11/dist-packages (from leafmap[maplibre]) (3.10.0)\n",
            "Requirement already satisfied: numpy in /usr/local/lib/python3.11/dist-packages (from leafmap[maplibre]) (1.26.4)\n",
            "Requirement already satisfied: pandas in /usr/local/lib/python3.11/dist-packages (from leafmap[maplibre]) (2.2.2)\n",
            "Requirement already satisfied: plotly in /usr/local/lib/python3.11/dist-packages (from leafmap[maplibre]) (5.24.1)\n",
            "Requirement already satisfied: psutil in /usr/local/lib/python3.11/dist-packages (from leafmap[maplibre]) (5.9.5)\n",
            "Requirement already satisfied: pyshp in /usr/local/lib/python3.11/dist-packages (from leafmap[maplibre]) (2.3.1)\n",
            "Collecting pystac-client (from leafmap[maplibre])\n",
            "  Downloading pystac_client-0.8.5-py3-none-any.whl.metadata (5.1 kB)\n",
            "Requirement already satisfied: python-box in /usr/local/lib/python3.11/dist-packages (from leafmap[maplibre]) (7.3.2)\n",
            "Requirement already satisfied: scooby in /usr/local/lib/python3.11/dist-packages (from leafmap[maplibre]) (0.10.0)\n",
            "Collecting whiteboxgui (from leafmap[maplibre])\n",
            "  Downloading whiteboxgui-2.3.0-py2.py3-none-any.whl.metadata (5.7 kB)\n",
            "Requirement already satisfied: xyzservices in /usr/local/lib/python3.11/dist-packages (from leafmap[maplibre]) (2025.1.0)\n",
            "Requirement already satisfied: geopandas in /usr/local/lib/python3.11/dist-packages (from leafmap[maplibre]) (1.0.1)\n",
            "Collecting h3 (from leafmap[maplibre])\n",
            "  Downloading h3-4.2.1-cp311-cp311-manylinux_2_17_x86_64.manylinux2014_x86_64.whl.metadata (18 kB)\n",
            "Collecting localtileserver (from leafmap[maplibre])\n",
            "  Downloading localtileserver-0.10.6-py3-none-any.whl.metadata (5.2 kB)\n",
            "Collecting mapclassify (from leafmap[maplibre])\n",
            "  Downloading mapclassify-2.8.1-py3-none-any.whl.metadata (2.8 kB)\n",
            "Collecting maplibre (from leafmap[maplibre])\n",
            "  Downloading maplibre-0.2.8-py3-none-any.whl.metadata (3.1 kB)\n",
            "Collecting pmtiles (from leafmap[maplibre])\n",
            "  Downloading pmtiles-3.4.1.tar.gz (13 kB)\n",
            "  Preparing metadata (setup.py) ... \u001b[?25l\u001b[?25hdone\n",
            "Collecting rioxarray (from leafmap[maplibre])\n",
            "  Downloading rioxarray-0.18.2-py3-none-any.whl.metadata (5.4 kB)\n",
            "Requirement already satisfied: xarray in /usr/local/lib/python3.11/dist-packages (from leafmap[maplibre]) (2025.1.1)\n",
            "Requirement already satisfied: scipy>=1.6.0 in /usr/local/lib/python3.11/dist-packages (from scikit-learn) (1.13.1)\n",
            "Requirement already satisfied: joblib>=1.2.0 in /usr/local/lib/python3.11/dist-packages (from scikit-learn) (1.4.2)\n",
            "Requirement already satisfied: threadpoolctl>=3.1.0 in /usr/local/lib/python3.11/dist-packages (from scikit-learn) (3.5.0)\n",
            "Collecting psygnal>=0.8.1 (from anywidget->leafmap[maplibre])\n",
            "  Downloading psygnal-0.12.0-cp311-cp311-manylinux_2_17_x86_64.manylinux2014_x86_64.whl.metadata (7.7 kB)\n",
            "Requirement already satisfied: typing-extensions>=4.2.0 in /usr/local/lib/python3.11/dist-packages (from anywidget->leafmap[maplibre]) (4.12.2)\n",
            "Requirement already satisfied: ipykernel>=4.5.1 in /usr/local/lib/python3.11/dist-packages (from ipywidgets->leafmap[maplibre]) (5.5.6)\n",
            "Requirement already satisfied: ipython-genutils~=0.2.0 in /usr/local/lib/python3.11/dist-packages (from ipywidgets->leafmap[maplibre]) (0.2.0)\n",
            "Requirement already satisfied: traitlets>=4.3.1 in /usr/local/lib/python3.11/dist-packages (from ipywidgets->leafmap[maplibre]) (5.7.1)\n",
            "Requirement already satisfied: widgetsnbextension~=3.6.0 in /usr/local/lib/python3.11/dist-packages (from ipywidgets->leafmap[maplibre]) (3.6.10)\n",
            "Requirement already satisfied: ipython>=4.0.0 in /usr/local/lib/python3.11/dist-packages (from ipywidgets->leafmap[maplibre]) (7.34.0)\n",
            "Requirement already satisfied: jupyterlab-widgets>=1.0.0 in /usr/local/lib/python3.11/dist-packages (from ipywidgets->leafmap[maplibre]) (3.0.13)\n",
            "Requirement already satisfied: traittypes>=0.0.6 in /usr/local/lib/python3.11/dist-packages (from bqplot->leafmap[maplibre]) (0.2.1)\n",
            "Requirement already satisfied: python-dateutil>=2.8.2 in /usr/local/lib/python3.11/dist-packages (from pandas->leafmap[maplibre]) (2.8.2)\n",
            "Requirement already satisfied: pytz>=2020.1 in /usr/local/lib/python3.11/dist-packages (from pandas->leafmap[maplibre]) (2024.2)\n",
            "Requirement already satisfied: tzdata>=2022.7 in /usr/local/lib/python3.11/dist-packages (from pandas->leafmap[maplibre]) (2025.1)\n",
            "Requirement already satisfied: branca>=0.6.0 in /usr/local/lib/python3.11/dist-packages (from folium->leafmap[maplibre]) (0.8.1)\n",
            "Requirement already satisfied: jinja2>=2.9 in /usr/local/lib/python3.11/dist-packages (from folium->leafmap[maplibre]) (3.1.5)\n",
            "Requirement already satisfied: requests in /usr/local/lib/python3.11/dist-packages (from folium->leafmap[maplibre]) (2.32.3)\n",
            "Requirement already satisfied: beautifulsoup4 in /usr/local/lib/python3.11/dist-packages (from gdown->leafmap[maplibre]) (4.12.3)\n",
            "Requirement already satisfied: filelock in /usr/local/lib/python3.11/dist-packages (from gdown->leafmap[maplibre]) (3.17.0)\n",
            "Requirement already satisfied: tqdm in /usr/local/lib/python3.11/dist-packages (from gdown->leafmap[maplibre]) (4.67.1)\n",
            "Requirement already satisfied: pyogrio>=0.7.2 in /usr/local/lib/python3.11/dist-packages (from geopandas->leafmap[maplibre]) (0.10.0)\n",
            "Requirement already satisfied: packaging in /usr/local/lib/python3.11/dist-packages (from geopandas->leafmap[maplibre]) (24.2)\n",
            "Requirement already satisfied: pyproj>=3.3.0 in /usr/local/lib/python3.11/dist-packages (from geopandas->leafmap[maplibre]) (3.7.0)\n",
            "Requirement already satisfied: shapely>=2.0.0 in /usr/local/lib/python3.11/dist-packages (from geopandas->leafmap[maplibre]) (2.0.6)\n",
            "Requirement already satisfied: jupyter-leaflet<0.20,>=0.19 in /usr/local/lib/python3.11/dist-packages (from ipyleaflet->leafmap[maplibre]) (0.19.2)\n",
            "Collecting ipyvue<2,>=1.7 (from ipyvuetify->leafmap[maplibre])\n",
            "  Downloading ipyvue-1.11.2-py2.py3-none-any.whl.metadata (1.1 kB)\n",
            "Requirement already satisfied: click in /usr/local/lib/python3.11/dist-packages (from localtileserver->leafmap[maplibre]) (8.1.8)\n",
            "Requirement already satisfied: flask<4,>=2.0.0 in /usr/local/lib/python3.11/dist-packages (from localtileserver->leafmap[maplibre]) (3.1.0)\n",
            "Collecting Flask-Caching (from localtileserver->leafmap[maplibre])\n",
            "  Downloading Flask_Caching-2.3.0-py3-none-any.whl.metadata (2.2 kB)\n",
            "Collecting flask-cors (from localtileserver->leafmap[maplibre])\n",
            "  Downloading Flask_Cors-5.0.0-py2.py3-none-any.whl.metadata (5.5 kB)\n",
            "Collecting flask-restx>=1.3.0 (from localtileserver->leafmap[maplibre])\n",
            "  Downloading flask_restx-1.3.0-py2.py3-none-any.whl.metadata (9.3 kB)\n",
            "Collecting rio-tiler (from localtileserver->leafmap[maplibre])\n",
            "  Downloading rio_tiler-7.4.0-py3-none-any.whl.metadata (12 kB)\n",
            "Collecting rio-cogeo (from localtileserver->leafmap[maplibre])\n",
            "  Downloading rio_cogeo-5.4.1-py3-none-any.whl.metadata (4.7 kB)\n",
            "Collecting server-thread (from localtileserver->leafmap[maplibre])\n",
            "  Downloading server_thread-0.3.0-py3-none-any.whl.metadata (5.3 kB)\n",
            "Requirement already satisfied: werkzeug in /usr/local/lib/python3.11/dist-packages (from localtileserver->leafmap[maplibre]) (3.1.3)\n",
            "Requirement already satisfied: networkx>=2.7 in /usr/local/lib/python3.11/dist-packages (from mapclassify->leafmap[maplibre]) (3.4.2)\n",
            "Collecting htmltools>=0.5.1 (from maplibre->leafmap[maplibre])\n",
            "  Downloading htmltools-0.6.0-py3-none-any.whl.metadata (3.3 kB)\n",
            "Requirement already satisfied: pydantic>=2.5.3 in /usr/local/lib/python3.11/dist-packages (from maplibre->leafmap[maplibre]) (2.10.6)\n",
            "Collecting shiny>=0.7.0 (from maplibre->leafmap[maplibre])\n",
            "  Downloading shiny-1.2.1-py3-none-any.whl.metadata (8.3 kB)\n",
            "Requirement already satisfied: contourpy>=1.0.1 in /usr/local/lib/python3.11/dist-packages (from matplotlib->leafmap[maplibre]) (1.3.1)\n",
            "Requirement already satisfied: cycler>=0.10 in /usr/local/lib/python3.11/dist-packages (from matplotlib->leafmap[maplibre]) (0.12.1)\n",
            "Requirement already satisfied: fonttools>=4.22.0 in /usr/local/lib/python3.11/dist-packages (from matplotlib->leafmap[maplibre]) (4.55.7)\n",
            "Requirement already satisfied: kiwisolver>=1.3.1 in /usr/local/lib/python3.11/dist-packages (from matplotlib->leafmap[maplibre]) (1.4.8)\n",
            "Requirement already satisfied: pillow>=8 in /usr/local/lib/python3.11/dist-packages (from matplotlib->leafmap[maplibre]) (11.1.0)\n",
            "Requirement already satisfied: pyparsing>=2.3.1 in /usr/local/lib/python3.11/dist-packages (from matplotlib->leafmap[maplibre]) (3.2.1)\n",
            "Requirement already satisfied: tenacity>=6.2.0 in /usr/local/lib/python3.11/dist-packages (from plotly->leafmap[maplibre]) (9.0.0)\n",
            "Collecting pystac>=1.10.0 (from pystac[validation]>=1.10.0->pystac-client->leafmap[maplibre])\n",
            "  Downloading pystac-1.12.1-py3-none-any.whl.metadata (4.6 kB)\n",
            "Collecting rasterio>=1.3.7 (from rioxarray->leafmap[maplibre])\n",
            "  Downloading rasterio-1.4.3-cp311-cp311-manylinux_2_17_x86_64.manylinux2014_x86_64.whl.metadata (9.1 kB)\n",
            "Requirement already satisfied: ipytree in /usr/local/lib/python3.11/dist-packages (from whiteboxgui->leafmap[maplibre]) (0.2.2)\n",
            "Collecting whitebox (from whiteboxgui->leafmap[maplibre])\n",
            "  Downloading whitebox-2.3.5-py2.py3-none-any.whl.metadata (10 kB)\n",
            "Requirement already satisfied: itsdangerous>=2.2 in /usr/local/lib/python3.11/dist-packages (from flask<4,>=2.0.0->localtileserver->leafmap[maplibre]) (2.2.0)\n",
            "Requirement already satisfied: blinker>=1.9 in /usr/local/lib/python3.11/dist-packages (from flask<4,>=2.0.0->localtileserver->leafmap[maplibre]) (1.9.0)\n",
            "Collecting aniso8601>=0.82 (from flask-restx>=1.3.0->localtileserver->leafmap[maplibre])\n",
            "  Downloading aniso8601-10.0.0-py2.py3-none-any.whl.metadata (23 kB)\n",
            "Requirement already satisfied: jsonschema in /usr/local/lib/python3.11/dist-packages (from flask-restx>=1.3.0->localtileserver->leafmap[maplibre]) (4.23.0)\n",
            "Requirement already satisfied: importlib-resources in /usr/local/lib/python3.11/dist-packages (from flask-restx>=1.3.0->localtileserver->leafmap[maplibre]) (6.5.2)\n",
            "Requirement already satisfied: jupyter-client in /usr/local/lib/python3.11/dist-packages (from ipykernel>=4.5.1->ipywidgets->leafmap[maplibre]) (6.1.12)\n",
            "Requirement already satisfied: tornado>=4.2 in /usr/local/lib/python3.11/dist-packages (from ipykernel>=4.5.1->ipywidgets->leafmap[maplibre]) (6.4.2)\n",
            "Requirement already satisfied: setuptools>=18.5 in /usr/local/lib/python3.11/dist-packages (from ipython>=4.0.0->ipywidgets->leafmap[maplibre]) (75.1.0)\n",
            "Collecting jedi>=0.16 (from ipython>=4.0.0->ipywidgets->leafmap[maplibre])\n",
            "  Downloading jedi-0.19.2-py2.py3-none-any.whl.metadata (22 kB)\n",
            "Requirement already satisfied: decorator in /usr/local/lib/python3.11/dist-packages (from ipython>=4.0.0->ipywidgets->leafmap[maplibre]) (4.4.2)\n",
            "Requirement already satisfied: pickleshare in /usr/local/lib/python3.11/dist-packages (from ipython>=4.0.0->ipywidgets->leafmap[maplibre]) (0.7.5)\n",
            "Requirement already satisfied: prompt-toolkit!=3.0.0,!=3.0.1,<3.1.0,>=2.0.0 in /usr/local/lib/python3.11/dist-packages (from ipython>=4.0.0->ipywidgets->leafmap[maplibre]) (3.0.50)\n",
            "Requirement already satisfied: pygments in /usr/local/lib/python3.11/dist-packages (from ipython>=4.0.0->ipywidgets->leafmap[maplibre]) (2.18.0)\n",
            "Requirement already satisfied: backcall in /usr/local/lib/python3.11/dist-packages (from ipython>=4.0.0->ipywidgets->leafmap[maplibre]) (0.2.0)\n",
            "Requirement already satisfied: matplotlib-inline in /usr/local/lib/python3.11/dist-packages (from ipython>=4.0.0->ipywidgets->leafmap[maplibre]) (0.1.7)\n",
            "Requirement already satisfied: pexpect>4.3 in /usr/local/lib/python3.11/dist-packages (from ipython>=4.0.0->ipywidgets->leafmap[maplibre]) (4.9.0)\n",
            "Requirement already satisfied: MarkupSafe>=2.0 in /usr/local/lib/python3.11/dist-packages (from jinja2>=2.9->folium->leafmap[maplibre]) (3.0.2)\n",
            "Requirement already satisfied: annotated-types>=0.6.0 in /usr/local/lib/python3.11/dist-packages (from pydantic>=2.5.3->maplibre->leafmap[maplibre]) (0.7.0)\n",
            "Requirement already satisfied: pydantic-core==2.27.2 in /usr/local/lib/python3.11/dist-packages (from pydantic>=2.5.3->maplibre->leafmap[maplibre]) (2.27.2)\n",
            "Requirement already satisfied: certifi in /usr/local/lib/python3.11/dist-packages (from pyogrio>=0.7.2->geopandas->leafmap[maplibre]) (2024.12.14)\n",
            "Requirement already satisfied: six>=1.5 in /usr/local/lib/python3.11/dist-packages (from python-dateutil>=2.8.2->pandas->leafmap[maplibre]) (1.17.0)\n",
            "Collecting affine (from rasterio>=1.3.7->rioxarray->leafmap[maplibre])\n",
            "  Downloading affine-2.4.0-py3-none-any.whl.metadata (4.0 kB)\n",
            "Requirement already satisfied: attrs in /usr/local/lib/python3.11/dist-packages (from rasterio>=1.3.7->rioxarray->leafmap[maplibre]) (25.1.0)\n",
            "Collecting cligj>=0.5 (from rasterio>=1.3.7->rioxarray->leafmap[maplibre])\n",
            "  Downloading cligj-0.7.2-py3-none-any.whl.metadata (5.0 kB)\n",
            "Collecting click-plugins (from rasterio>=1.3.7->rioxarray->leafmap[maplibre])\n",
            "  Downloading click_plugins-1.1.1-py2.py3-none-any.whl.metadata (6.4 kB)\n",
            "Requirement already satisfied: charset-normalizer<4,>=2 in /usr/local/lib/python3.11/dist-packages (from requests->folium->leafmap[maplibre]) (3.4.1)\n",
            "Requirement already satisfied: idna<4,>=2.5 in /usr/local/lib/python3.11/dist-packages (from requests->folium->leafmap[maplibre]) (3.10)\n",
            "Requirement already satisfied: urllib3<3,>=1.21.1 in /usr/local/lib/python3.11/dist-packages (from requests->folium->leafmap[maplibre]) (2.3.0)\n",
            "Collecting starlette (from shiny>=0.7.0->maplibre->leafmap[maplibre])\n",
            "  Downloading starlette-0.45.3-py3-none-any.whl.metadata (6.3 kB)\n",
            "Requirement already satisfied: websockets>=13.0 in /usr/local/lib/python3.11/dist-packages (from shiny>=0.7.0->maplibre->leafmap[maplibre]) (14.2)\n",
            "Collecting python-multipart (from shiny>=0.7.0->maplibre->leafmap[maplibre])\n",
            "  Downloading python_multipart-0.0.20-py3-none-any.whl.metadata (1.8 kB)\n",
            "Requirement already satisfied: markdown-it-py>=1.1.0 in /usr/local/lib/python3.11/dist-packages (from shiny>=0.7.0->maplibre->leafmap[maplibre]) (3.0.0)\n",
            "Requirement already satisfied: mdit-py-plugins>=0.3.0 in /usr/local/lib/python3.11/dist-packages (from shiny>=0.7.0->maplibre->leafmap[maplibre]) (0.4.2)\n",
            "Requirement already satisfied: linkify-it-py>=1.0 in /usr/local/lib/python3.11/dist-packages (from shiny>=0.7.0->maplibre->leafmap[maplibre]) (2.0.3)\n",
            "Collecting appdirs>=1.4.4 (from shiny>=0.7.0->maplibre->leafmap[maplibre])\n",
            "  Downloading appdirs-1.4.4-py2.py3-none-any.whl.metadata (9.0 kB)\n",
            "Collecting asgiref>=3.5.2 (from shiny>=0.7.0->maplibre->leafmap[maplibre])\n",
            "  Downloading asgiref-3.8.1-py3-none-any.whl.metadata (9.3 kB)\n",
            "Requirement already satisfied: narwhals>=1.10.0 in /usr/local/lib/python3.11/dist-packages (from shiny>=0.7.0->maplibre->leafmap[maplibre]) (1.24.1)\n",
            "Requirement already satisfied: orjson>=3.10.7 in /usr/local/lib/python3.11/dist-packages (from shiny>=0.7.0->maplibre->leafmap[maplibre]) (3.10.15)\n",
            "Collecting uvicorn>=0.16.0 (from shiny>=0.7.0->maplibre->leafmap[maplibre])\n",
            "  Downloading uvicorn-0.34.0-py3-none-any.whl.metadata (6.5 kB)\n",
            "Collecting watchfiles>=0.18.0 (from shiny>=0.7.0->maplibre->leafmap[maplibre])\n",
            "  Downloading watchfiles-1.0.4-cp311-cp311-manylinux_2_17_x86_64.manylinux2014_x86_64.whl.metadata (4.9 kB)\n",
            "Collecting questionary>=2.0.0 (from shiny>=0.7.0->maplibre->leafmap[maplibre])\n",
            "  Downloading questionary-2.1.0-py3-none-any.whl.metadata (5.4 kB)\n",
            "Requirement already satisfied: notebook>=4.4.1 in /usr/local/lib/python3.11/dist-packages (from widgetsnbextension~=3.6.0->ipywidgets->leafmap[maplibre]) (6.5.5)\n",
            "Requirement already satisfied: soupsieve>1.2 in /usr/local/lib/python3.11/dist-packages (from beautifulsoup4->gdown->leafmap[maplibre]) (2.6)\n",
            "Collecting cachelib<0.10.0,>=0.9.0 (from Flask-Caching->localtileserver->leafmap[maplibre])\n",
            "  Downloading cachelib-0.9.0-py3-none-any.whl.metadata (1.9 kB)\n",
            "Requirement already satisfied: PySocks!=1.5.7,>=1.5.6 in /usr/local/lib/python3.11/dist-packages (from requests[socks]->gdown->leafmap[maplibre]) (1.7.1)\n",
            "Collecting morecantile<7.0,>=5.0 (from rio-cogeo->localtileserver->leafmap[maplibre])\n",
            "  Downloading morecantile-6.2.0-py3-none-any.whl.metadata (7.3 kB)\n",
            "Requirement already satisfied: cachetools in /usr/local/lib/python3.11/dist-packages (from rio-tiler->localtileserver->leafmap[maplibre]) (5.5.1)\n",
            "Collecting color-operations (from rio-tiler->localtileserver->leafmap[maplibre])\n",
            "  Downloading color_operations-0.1.6-cp311-cp311-manylinux_2_5_x86_64.manylinux1_x86_64.manylinux_2_17_x86_64.manylinux2014_x86_64.whl.metadata (6.0 kB)\n",
            "Requirement already satisfied: httpx in /usr/local/lib/python3.11/dist-packages (from rio-tiler->localtileserver->leafmap[maplibre]) (0.28.1)\n",
            "Requirement already satisfied: numexpr in /usr/local/lib/python3.11/dist-packages (from rio-tiler->localtileserver->leafmap[maplibre]) (2.10.2)\n",
            "Requirement already satisfied: parso<0.9.0,>=0.8.4 in /usr/local/lib/python3.11/dist-packages (from jedi>=0.16->ipython>=4.0.0->ipywidgets->leafmap[maplibre]) (0.8.4)\n",
            "Requirement already satisfied: jsonschema-specifications>=2023.03.6 in /usr/local/lib/python3.11/dist-packages (from jsonschema->flask-restx>=1.3.0->localtileserver->leafmap[maplibre]) (2024.10.1)\n",
            "Requirement already satisfied: referencing>=0.28.4 in /usr/local/lib/python3.11/dist-packages (from jsonschema->flask-restx>=1.3.0->localtileserver->leafmap[maplibre]) (0.36.2)\n",
            "Requirement already satisfied: rpds-py>=0.7.1 in /usr/local/lib/python3.11/dist-packages (from jsonschema->flask-restx>=1.3.0->localtileserver->leafmap[maplibre]) (0.22.3)\n",
            "Requirement already satisfied: uc-micro-py in /usr/local/lib/python3.11/dist-packages (from linkify-it-py>=1.0->shiny>=0.7.0->maplibre->leafmap[maplibre]) (1.0.3)\n",
            "Requirement already satisfied: mdurl~=0.1 in /usr/local/lib/python3.11/dist-packages (from markdown-it-py>=1.1.0->shiny>=0.7.0->maplibre->leafmap[maplibre]) (0.1.2)\n",
            "Requirement already satisfied: pyzmq<25,>=17 in /usr/local/lib/python3.11/dist-packages (from notebook>=4.4.1->widgetsnbextension~=3.6.0->ipywidgets->leafmap[maplibre]) (24.0.1)\n",
            "Requirement already satisfied: argon2-cffi in /usr/local/lib/python3.11/dist-packages (from notebook>=4.4.1->widgetsnbextension~=3.6.0->ipywidgets->leafmap[maplibre]) (23.1.0)\n",
            "Requirement already satisfied: jupyter-core>=4.6.1 in /usr/local/lib/python3.11/dist-packages (from notebook>=4.4.1->widgetsnbextension~=3.6.0->ipywidgets->leafmap[maplibre]) (5.7.2)\n",
            "Requirement already satisfied: nbformat in /usr/local/lib/python3.11/dist-packages (from notebook>=4.4.1->widgetsnbextension~=3.6.0->ipywidgets->leafmap[maplibre]) (5.10.4)\n",
            "Requirement already satisfied: nbconvert>=5 in /usr/local/lib/python3.11/dist-packages (from notebook>=4.4.1->widgetsnbextension~=3.6.0->ipywidgets->leafmap[maplibre]) (7.16.6)\n",
            "Requirement already satisfied: nest-asyncio>=1.5 in /usr/local/lib/python3.11/dist-packages (from notebook>=4.4.1->widgetsnbextension~=3.6.0->ipywidgets->leafmap[maplibre]) (1.6.0)\n",
            "Requirement already satisfied: Send2Trash>=1.8.0 in /usr/local/lib/python3.11/dist-packages (from notebook>=4.4.1->widgetsnbextension~=3.6.0->ipywidgets->leafmap[maplibre]) (1.8.3)\n",
            "Requirement already satisfied: terminado>=0.8.3 in /usr/local/lib/python3.11/dist-packages (from notebook>=4.4.1->widgetsnbextension~=3.6.0->ipywidgets->leafmap[maplibre]) (0.18.1)\n",
            "Requirement already satisfied: prometheus-client in /usr/local/lib/python3.11/dist-packages (from notebook>=4.4.1->widgetsnbextension~=3.6.0->ipywidgets->leafmap[maplibre]) (0.21.1)\n",
            "Requirement already satisfied: nbclassic>=0.4.7 in /usr/local/lib/python3.11/dist-packages (from notebook>=4.4.1->widgetsnbextension~=3.6.0->ipywidgets->leafmap[maplibre]) (1.2.0)\n",
            "Requirement already satisfied: ptyprocess>=0.5 in /usr/local/lib/python3.11/dist-packages (from pexpect>4.3->ipython>=4.0.0->ipywidgets->leafmap[maplibre]) (0.7.0)\n",
            "Requirement already satisfied: wcwidth in /usr/local/lib/python3.11/dist-packages (from prompt-toolkit!=3.0.0,!=3.0.1,<3.1.0,>=2.0.0->ipython>=4.0.0->ipywidgets->leafmap[maplibre]) (0.2.13)\n",
            "Requirement already satisfied: h11>=0.8 in /usr/local/lib/python3.11/dist-packages (from uvicorn>=0.16.0->shiny>=0.7.0->maplibre->leafmap[maplibre]) (0.14.0)\n",
            "Requirement already satisfied: anyio>=3.0.0 in /usr/local/lib/python3.11/dist-packages (from watchfiles>=0.18.0->shiny>=0.7.0->maplibre->leafmap[maplibre]) (3.7.1)\n",
            "Requirement already satisfied: httpcore==1.* in /usr/local/lib/python3.11/dist-packages (from httpx->rio-tiler->localtileserver->leafmap[maplibre]) (1.0.7)\n",
            "Requirement already satisfied: sniffio>=1.1 in /usr/local/lib/python3.11/dist-packages (from anyio>=3.0.0->watchfiles>=0.18.0->shiny>=0.7.0->maplibre->leafmap[maplibre]) (1.3.1)\n",
            "Requirement already satisfied: platformdirs>=2.5 in /usr/local/lib/python3.11/dist-packages (from jupyter-core>=4.6.1->notebook>=4.4.1->widgetsnbextension~=3.6.0->ipywidgets->leafmap[maplibre]) (4.3.6)\n",
            "Requirement already satisfied: notebook-shim>=0.2.3 in /usr/local/lib/python3.11/dist-packages (from nbclassic>=0.4.7->notebook>=4.4.1->widgetsnbextension~=3.6.0->ipywidgets->leafmap[maplibre]) (0.2.4)\n",
            "Requirement already satisfied: bleach!=5.0.0 in /usr/local/lib/python3.11/dist-packages (from bleach[css]!=5.0.0->nbconvert>=5->notebook>=4.4.1->widgetsnbextension~=3.6.0->ipywidgets->leafmap[maplibre]) (6.2.0)\n",
            "Requirement already satisfied: defusedxml in /usr/local/lib/python3.11/dist-packages (from nbconvert>=5->notebook>=4.4.1->widgetsnbextension~=3.6.0->ipywidgets->leafmap[maplibre]) (0.7.1)\n",
            "Requirement already satisfied: jupyterlab-pygments in /usr/local/lib/python3.11/dist-packages (from nbconvert>=5->notebook>=4.4.1->widgetsnbextension~=3.6.0->ipywidgets->leafmap[maplibre]) (0.3.0)\n",
            "Requirement already satisfied: mistune<4,>=2.0.3 in /usr/local/lib/python3.11/dist-packages (from nbconvert>=5->notebook>=4.4.1->widgetsnbextension~=3.6.0->ipywidgets->leafmap[maplibre]) (3.1.1)\n",
            "Requirement already satisfied: nbclient>=0.5.0 in /usr/local/lib/python3.11/dist-packages (from nbconvert>=5->notebook>=4.4.1->widgetsnbextension~=3.6.0->ipywidgets->leafmap[maplibre]) (0.10.2)\n",
            "Requirement already satisfied: pandocfilters>=1.4.1 in /usr/local/lib/python3.11/dist-packages (from nbconvert>=5->notebook>=4.4.1->widgetsnbextension~=3.6.0->ipywidgets->leafmap[maplibre]) (1.5.1)\n",
            "Requirement already satisfied: fastjsonschema>=2.15 in /usr/local/lib/python3.11/dist-packages (from nbformat->notebook>=4.4.1->widgetsnbextension~=3.6.0->ipywidgets->leafmap[maplibre]) (2.21.1)\n",
            "Requirement already satisfied: argon2-cffi-bindings in /usr/local/lib/python3.11/dist-packages (from argon2-cffi->notebook>=4.4.1->widgetsnbextension~=3.6.0->ipywidgets->leafmap[maplibre]) (21.2.0)\n",
            "Requirement already satisfied: webencodings in /usr/local/lib/python3.11/dist-packages (from bleach!=5.0.0->bleach[css]!=5.0.0->nbconvert>=5->notebook>=4.4.1->widgetsnbextension~=3.6.0->ipywidgets->leafmap[maplibre]) (0.5.1)\n",
            "Requirement already satisfied: tinycss2<1.5,>=1.1.0 in /usr/local/lib/python3.11/dist-packages (from bleach[css]!=5.0.0->nbconvert>=5->notebook>=4.4.1->widgetsnbextension~=3.6.0->ipywidgets->leafmap[maplibre]) (1.4.0)\n",
            "Requirement already satisfied: jupyter-server<3,>=1.8 in /usr/local/lib/python3.11/dist-packages (from notebook-shim>=0.2.3->nbclassic>=0.4.7->notebook>=4.4.1->widgetsnbextension~=3.6.0->ipywidgets->leafmap[maplibre]) (1.24.0)\n",
            "Requirement already satisfied: cffi>=1.0.1 in /usr/local/lib/python3.11/dist-packages (from argon2-cffi-bindings->argon2-cffi->notebook>=4.4.1->widgetsnbextension~=3.6.0->ipywidgets->leafmap[maplibre]) (1.17.1)\n",
            "Requirement already satisfied: pycparser in /usr/local/lib/python3.11/dist-packages (from cffi>=1.0.1->argon2-cffi-bindings->argon2-cffi->notebook>=4.4.1->widgetsnbextension~=3.6.0->ipywidgets->leafmap[maplibre]) (2.22)\n",
            "Requirement already satisfied: websocket-client in /usr/local/lib/python3.11/dist-packages (from jupyter-server<3,>=1.8->notebook-shim>=0.2.3->nbclassic>=0.4.7->notebook>=4.4.1->widgetsnbextension~=3.6.0->ipywidgets->leafmap[maplibre]) (1.8.0)\n",
            "Downloading anywidget-0.9.13-py3-none-any.whl (213 kB)\n",
            "\u001b[2K   \u001b[90m━━━━━━━━━━━━━━━━━━━━━━━━━━━━━━━━━━━━━━━━\u001b[0m \u001b[32m213.7/213.7 kB\u001b[0m \u001b[31m3.0 MB/s\u001b[0m eta \u001b[36m0:00:00\u001b[0m\n",
            "\u001b[?25hDownloading geojson-3.2.0-py3-none-any.whl (15 kB)\n",
            "Downloading h3-4.2.1-cp311-cp311-manylinux_2_17_x86_64.manylinux2014_x86_64.whl (1.0 MB)\n",
            "\u001b[2K   \u001b[90m━━━━━━━━━━━━━━━━━━━━━━━━━━━━━━━━━━━━━━━━\u001b[0m \u001b[32m1.0/1.0 MB\u001b[0m \u001b[31m27.4 MB/s\u001b[0m eta \u001b[36m0:00:00\u001b[0m\n",
            "\u001b[?25hDownloading ipyvuetify-1.10.0-py2.py3-none-any.whl (6.1 MB)\n",
            "\u001b[2K   \u001b[90m━━━━━━━━━━━━━━━━━━━━━━━━━━━━━━━━━━━━━━━━\u001b[0m \u001b[32m6.1/6.1 MB\u001b[0m \u001b[31m25.0 MB/s\u001b[0m eta \u001b[36m0:00:00\u001b[0m\n",
            "\u001b[?25hDownloading leafmap-0.42.9-py2.py3-none-any.whl (515 kB)\n",
            "\u001b[2K   \u001b[90m━━━━━━━━━━━━━━━━━━━━━━━━━━━━━━━━━━━━━━━━\u001b[0m \u001b[32m515.2/515.2 kB\u001b[0m \u001b[31m21.1 MB/s\u001b[0m eta \u001b[36m0:00:00\u001b[0m\n",
            "\u001b[?25hDownloading localtileserver-0.10.6-py3-none-any.whl (17.1 MB)\n",
            "\u001b[2K   \u001b[90m━━━━━━━━━━━━━━━━━━━━━━━━━━━━━━━━━━━━━━━━\u001b[0m \u001b[32m17.1/17.1 MB\u001b[0m \u001b[31m15.5 MB/s\u001b[0m eta \u001b[36m0:00:00\u001b[0m\n",
            "\u001b[?25hDownloading mapclassify-2.8.1-py3-none-any.whl (59 kB)\n",
            "\u001b[2K   \u001b[90m━━━━━━━━━━━━━━━━━━━━━━━━━━━━━━━━━━━━━━━━\u001b[0m \u001b[32m59.1/59.1 kB\u001b[0m \u001b[31m2.3 MB/s\u001b[0m eta \u001b[36m0:00:00\u001b[0m\n",
            "\u001b[?25hDownloading maplibre-0.2.8-py3-none-any.whl (677 kB)\n",
            "\u001b[2K   \u001b[90m━━━━━━━━━━━━━━━━━━━━━━━━━━━━━━━━━━━━━━━━\u001b[0m \u001b[32m677.5/677.5 kB\u001b[0m \u001b[31m15.4 MB/s\u001b[0m eta \u001b[36m0:00:00\u001b[0m\n",
            "\u001b[?25hDownloading pystac_client-0.8.5-py3-none-any.whl (41 kB)\n",
            "\u001b[2K   \u001b[90m━━━━━━━━━━━━━━━━━━━━━━━━━━━━━━━━━━━━━━━━\u001b[0m \u001b[32m41.9/41.9 kB\u001b[0m \u001b[31m2.1 MB/s\u001b[0m eta \u001b[36m0:00:00\u001b[0m\n",
            "\u001b[?25hDownloading rioxarray-0.18.2-py3-none-any.whl (61 kB)\n",
            "\u001b[2K   \u001b[90m━━━━━━━━━━━━━━━━━━━━━━━━━━━━━━━━━━━━━━━━\u001b[0m \u001b[32m61.9/61.9 kB\u001b[0m \u001b[31m1.7 MB/s\u001b[0m eta \u001b[36m0:00:00\u001b[0m\n",
            "\u001b[?25hDownloading whiteboxgui-2.3.0-py2.py3-none-any.whl (108 kB)\n",
            "\u001b[2K   \u001b[90m━━━━━━━━━━━━━━━━━━━━━━━━━━━━━━━━━━━━━━━━\u001b[0m \u001b[32m108.6/108.6 kB\u001b[0m \u001b[31m5.2 MB/s\u001b[0m eta \u001b[36m0:00:00\u001b[0m\n",
            "\u001b[?25hDownloading flask_restx-1.3.0-py2.py3-none-any.whl (2.8 MB)\n",
            "\u001b[2K   \u001b[90m━━━━━━━━━━━━━━━━━━━━━━━━━━━━━━━━━━━━━━━━\u001b[0m \u001b[32m2.8/2.8 MB\u001b[0m \u001b[31m21.3 MB/s\u001b[0m eta \u001b[36m0:00:00\u001b[0m\n",
            "\u001b[?25hDownloading htmltools-0.6.0-py3-none-any.whl (84 kB)\n",
            "\u001b[2K   \u001b[90m━━━━━━━━━━━━━━━━━━━━━━━━━━━━━━━━━━━━━━━━\u001b[0m \u001b[32m85.0/85.0 kB\u001b[0m \u001b[31m5.0 MB/s\u001b[0m eta \u001b[36m0:00:00\u001b[0m\n",
            "\u001b[?25hDownloading ipyvue-1.11.2-py2.py3-none-any.whl (2.7 MB)\n",
            "\u001b[2K   \u001b[90m━━━━━━━━━━━━━━━━━━━━━━━━━━━━━━━━━━━━━━━━\u001b[0m \u001b[32m2.7/2.7 MB\u001b[0m \u001b[31m18.4 MB/s\u001b[0m eta \u001b[36m0:00:00\u001b[0m\n",
            "\u001b[?25hDownloading psygnal-0.12.0-cp311-cp311-manylinux_2_17_x86_64.manylinux2014_x86_64.whl (765 kB)\n",
            "\u001b[2K   \u001b[90m━━━━━━━━━━━━━━━━━━━━━━━━━━━━━━━━━━━━━━━━\u001b[0m \u001b[32m765.5/765.5 kB\u001b[0m \u001b[31m14.6 MB/s\u001b[0m eta \u001b[36m0:00:00\u001b[0m\n",
            "\u001b[?25hDownloading pystac-1.12.1-py3-none-any.whl (194 kB)\n",
            "\u001b[2K   \u001b[90m━━━━━━━━━━━━━━━━━━━━━━━━━━━━━━━━━━━━━━━━\u001b[0m \u001b[32m194.2/194.2 kB\u001b[0m \u001b[31m7.4 MB/s\u001b[0m eta \u001b[36m0:00:00\u001b[0m\n",
            "\u001b[?25hDownloading rasterio-1.4.3-cp311-cp311-manylinux_2_17_x86_64.manylinux2014_x86_64.whl (22.2 MB)\n",
            "\u001b[2K   \u001b[90m━━━━━━━━━━━━━━━━━━━━━━━━━━━━━━━━━━━━━━━━\u001b[0m \u001b[32m22.2/22.2 MB\u001b[0m \u001b[31m13.4 MB/s\u001b[0m eta \u001b[36m0:00:00\u001b[0m\n",
            "\u001b[?25hDownloading shiny-1.2.1-py3-none-any.whl (4.3 MB)\n",
            "\u001b[2K   \u001b[90m━━━━━━━━━━━━━━━━━━━━━━━━━━━━━━━━━━━━━━━━\u001b[0m \u001b[32m4.3/4.3 MB\u001b[0m \u001b[31m12.3 MB/s\u001b[0m eta \u001b[36m0:00:00\u001b[0m\n",
            "\u001b[?25hDownloading Flask_Caching-2.3.0-py3-none-any.whl (28 kB)\n",
            "Downloading Flask_Cors-5.0.0-py2.py3-none-any.whl (14 kB)\n",
            "Downloading rio_cogeo-5.4.1-py3-none-any.whl (20 kB)\n",
            "Downloading rio_tiler-7.4.0-py3-none-any.whl (266 kB)\n",
            "\u001b[2K   \u001b[90m━━━━━━━━━━━━━━━━━━━━━━━━━━━━━━━━━━━━━━━━\u001b[0m \u001b[32m266.5/266.5 kB\u001b[0m \u001b[31m12.8 MB/s\u001b[0m eta \u001b[36m0:00:00\u001b[0m\n",
            "\u001b[?25hDownloading server_thread-0.3.0-py3-none-any.whl (6.6 kB)\n",
            "Downloading whitebox-2.3.5-py2.py3-none-any.whl (72 kB)\n",
            "\u001b[2K   \u001b[90m━━━━━━━━━━━━━━━━━━━━━━━━━━━━━━━━━━━━━━━━\u001b[0m \u001b[32m72.4/72.4 kB\u001b[0m \u001b[31m3.9 MB/s\u001b[0m eta \u001b[36m0:00:00\u001b[0m\n",
            "\u001b[?25hDownloading aniso8601-10.0.0-py2.py3-none-any.whl (52 kB)\n",
            "\u001b[2K   \u001b[90m━━━━━━━━━━━━━━━━━━━━━━━━━━━━━━━━━━━━━━━━\u001b[0m \u001b[32m52.8/52.8 kB\u001b[0m \u001b[31m2.1 MB/s\u001b[0m eta \u001b[36m0:00:00\u001b[0m\n",
            "\u001b[?25hDownloading appdirs-1.4.4-py2.py3-none-any.whl (9.6 kB)\n",
            "Downloading asgiref-3.8.1-py3-none-any.whl (23 kB)\n",
            "Downloading cachelib-0.9.0-py3-none-any.whl (15 kB)\n",
            "Downloading cligj-0.7.2-py3-none-any.whl (7.1 kB)\n",
            "Downloading jedi-0.19.2-py2.py3-none-any.whl (1.6 MB)\n",
            "\u001b[2K   \u001b[90m━━━━━━━━━━━━━━━━━━━━━━━━━━━━━━━━━━━━━━━━\u001b[0m \u001b[32m1.6/1.6 MB\u001b[0m \u001b[31m23.8 MB/s\u001b[0m eta \u001b[36m0:00:00\u001b[0m\n",
            "\u001b[?25hDownloading morecantile-6.2.0-py3-none-any.whl (49 kB)\n",
            "\u001b[2K   \u001b[90m━━━━━━━━━━━━━━━━━━━━━━━━━━━━━━━━━━━━━━━━\u001b[0m \u001b[32m49.5/49.5 kB\u001b[0m \u001b[31m1.4 MB/s\u001b[0m eta \u001b[36m0:00:00\u001b[0m\n",
            "\u001b[?25hDownloading python_multipart-0.0.20-py3-none-any.whl (24 kB)\n",
            "Downloading questionary-2.1.0-py3-none-any.whl (36 kB)\n",
            "Downloading uvicorn-0.34.0-py3-none-any.whl (62 kB)\n",
            "\u001b[2K   \u001b[90m━━━━━━━━━━━━━━━━━━━━━━━━━━━━━━━━━━━━━━━━\u001b[0m \u001b[32m62.3/62.3 kB\u001b[0m \u001b[31m2.5 MB/s\u001b[0m eta \u001b[36m0:00:00\u001b[0m\n",
            "\u001b[?25hDownloading watchfiles-1.0.4-cp311-cp311-manylinux_2_17_x86_64.manylinux2014_x86_64.whl (452 kB)\n",
            "\u001b[2K   \u001b[90m━━━━━━━━━━━━━━━━━━━━━━━━━━━━━━━━━━━━━━━━\u001b[0m \u001b[32m452.6/452.6 kB\u001b[0m \u001b[31m14.8 MB/s\u001b[0m eta \u001b[36m0:00:00\u001b[0m\n",
            "\u001b[?25hDownloading affine-2.4.0-py3-none-any.whl (15 kB)\n",
            "Downloading click_plugins-1.1.1-py2.py3-none-any.whl (7.5 kB)\n",
            "Downloading color_operations-0.1.6-cp311-cp311-manylinux_2_5_x86_64.manylinux1_x86_64.manylinux_2_17_x86_64.manylinux2014_x86_64.whl (195 kB)\n",
            "\u001b[2K   \u001b[90m━━━━━━━━━━━━━━━━━━━━━━━━━━━━━━━━━━━━━━━━\u001b[0m \u001b[32m195.0/195.0 kB\u001b[0m \u001b[31m11.0 MB/s\u001b[0m eta \u001b[36m0:00:00\u001b[0m\n",
            "\u001b[?25hDownloading starlette-0.45.3-py3-none-any.whl (71 kB)\n",
            "\u001b[2K   \u001b[90m━━━━━━━━━━━━━━━━━━━━━━━━━━━━━━━━━━━━━━━━\u001b[0m \u001b[32m71.5/71.5 kB\u001b[0m \u001b[31m5.0 MB/s\u001b[0m eta \u001b[36m0:00:00\u001b[0m\n",
            "\u001b[?25hBuilding wheels for collected packages: pmtiles\n",
            "  Building wheel for pmtiles (setup.py) ... \u001b[?25l\u001b[?25hdone\n",
            "  Created wheel for pmtiles: filename=pmtiles-3.4.1-py3-none-any.whl size=15820 sha256=b99fb7a4bf8fb69669bb36d7e29c07c1ea8e4f2839ff98cc2aa73d366756493e\n",
            "  Stored in directory: /root/.cache/pip/wheels/72/b2/97/f91fbdf248dc7a07a6b589ec68f0e00ecfc46c1dc5a75a1e6e\n",
            "Successfully built pmtiles\n",
            "Installing collected packages: pmtiles, appdirs, aniso8601, whitebox, uvicorn, python-multipart, psygnal, jedi, htmltools, h3, geojson, color-operations, cligj, click-plugins, cachelib, asgiref, affine, watchfiles, starlette, server-thread, rasterio, questionary, pystac, shiny, morecantile, mapclassify, flask-cors, Flask-Caching, rioxarray, rio-tiler, rio-cogeo, flask-restx, pystac-client, localtileserver, ipyvue, anywidget, whiteboxgui, maplibre, ipyvuetify, leafmap\n",
            "Successfully installed Flask-Caching-2.3.0 affine-2.4.0 aniso8601-10.0.0 anywidget-0.9.13 appdirs-1.4.4 asgiref-3.8.1 cachelib-0.9.0 click-plugins-1.1.1 cligj-0.7.2 color-operations-0.1.6 flask-cors-5.0.0 flask-restx-1.3.0 geojson-3.2.0 h3-4.2.1 htmltools-0.6.0 ipyvue-1.11.2 ipyvuetify-1.10.0 jedi-0.19.2 leafmap-0.42.9 localtileserver-0.10.6 mapclassify-2.8.1 maplibre-0.2.8 morecantile-6.2.0 pmtiles-3.4.1 psygnal-0.12.0 pystac-1.12.1 pystac-client-0.8.5 python-multipart-0.0.20 questionary-2.1.0 rasterio-1.4.3 rio-cogeo-5.4.1 rio-tiler-7.4.0 rioxarray-0.18.2 server-thread-0.3.0 shiny-1.2.1 starlette-0.45.3 uvicorn-0.34.0 watchfiles-1.0.4 whitebox-2.3.5 whiteboxgui-2.3.0\n"
          ]
        }
      ],
      "source": [
        "%pip install \"leafmap[maplibre]\" scikit-learn"
      ]
    },
    {
      "cell_type": "markdown",
      "metadata": {
        "id": "Ohmp-YcxCapz"
      },
      "source": [
        "## Import Libraries"
      ]
    },
    {
      "cell_type": "code",
      "execution_count": 2,
      "metadata": {
        "id": "cYLoU1fTCapz"
      },
      "outputs": [],
      "source": [
        "import os\n",
        "import pandas as pd\n",
        "import geopandas as gpd\n",
        "from sklearn.model_selection import train_test_split\n",
        "from sklearn.linear_model import LinearRegression\n",
        "from sklearn.neighbors import KNeighborsRegressor\n",
        "from leafmap.common import evaluate_model, plot_actual_vs_predicted, download_file\n",
        "import leafmap.maplibregl as leafmap"
      ]
    },
    {
      "cell_type": "markdown",
      "metadata": {
        "id": "TJUQSJgCCap0"
      },
      "source": [
        "## Download Zillow Data\n",
        "\n",
        "Download the Zillow home value data at the county level."
      ]
    },
    {
      "cell_type": "code",
      "execution_count": 3,
      "metadata": {
        "id": "kF9oi-6wCap0"
      },
      "outputs": [],
      "source": [
        "zhvi_url = \"https://github.com/opengeos/datasets/releases/download/us/zillow_home_value_index_by_county.csv\"\n",
        "zhvi_file = \"data/zillow_home_value_index_by_county.csv\""
      ]
    },
    {
      "cell_type": "code",
      "execution_count": 4,
      "metadata": {
        "id": "kUYgRhRWCap0",
        "outputId": "28d074cc-ee82-42bd-949a-63e9bbbf98e5",
        "colab": {
          "base_uri": "https://localhost:8080/"
        }
      },
      "outputs": [
        {
          "output_type": "stream",
          "name": "stderr",
          "text": [
            "Downloading...\n",
            "From: https://github.com/opengeos/datasets/releases/download/us/zillow_home_value_index_by_county.csv\n",
            "To: /content/data/zillow_home_value_index_by_county.csv\n",
            "100%|██████████| 12.3M/12.3M [00:02<00:00, 5.01MB/s]\n"
          ]
        }
      ],
      "source": [
        "if not os.path.exists(zhvi_file):\n",
        "    download_file(zhvi_url, zhvi_file)"
      ]
    },
    {
      "cell_type": "markdown",
      "metadata": {
        "id": "TvkAv6zACap1"
      },
      "source": [
        "## Process Zillow Data"
      ]
    },
    {
      "cell_type": "code",
      "execution_count": 5,
      "metadata": {
        "id": "Ap-yRh1bCap1",
        "outputId": "705415ea-ebd4-4ed8-a338-748a1c809acd",
        "colab": {
          "base_uri": "https://localhost:8080/",
          "height": 585
        }
      },
      "outputs": [
        {
          "output_type": "execute_result",
          "data": {
            "text/plain": [
              "             RegionID  SizeRank          RegionName RegionType StateName  \\\n",
              "geoId/06037      3101         0  Los Angeles County     county        CA   \n",
              "geoId/17031       139         1         Cook County     county        IL   \n",
              "geoId/48201      1090         2       Harris County     county        TX   \n",
              "geoId/04013      2402         3     Maricopa County     county        AZ   \n",
              "geoId/06073      2841         4    San Diego County     county        CA   \n",
              "\n",
              "            State                                 Metro StateCodeFIPS  \\\n",
              "geoId/06037    CA    Los Angeles-Long Beach-Anaheim, CA            06   \n",
              "geoId/17031    IL    Chicago-Naperville-Elgin, IL-IN-WI            17   \n",
              "geoId/48201    TX  Houston-The Woodlands-Sugar Land, TX            48   \n",
              "geoId/04013    AZ             Phoenix-Mesa-Chandler, AZ            04   \n",
              "geoId/06073    CA    San Diego-Chula Vista-Carlsbad, CA            06   \n",
              "\n",
              "            MunicipalCodeFIPS     2000-01-31  ...     2024-01-31  \\\n",
              "geoId/06037               037  206679.102841  ...  855978.867131   \n",
              "geoId/17031               031  147770.953138  ...  296336.449935   \n",
              "geoId/48201               201  108332.694683  ...  277636.906153   \n",
              "geoId/04013               013  143192.734000  ...  465029.414800   \n",
              "geoId/06073               073  213155.078588  ...  899172.567276   \n",
              "\n",
              "                2024-02-29     2024-03-31     2024-04-30     2024-05-31  \\\n",
              "geoId/06037  851218.324044  847438.710237  848072.053695  851221.654671   \n",
              "geoId/17031  297281.192639  299300.336191  301953.165715  303791.255067   \n",
              "geoId/48201  278094.301024  279085.366023  280116.831608  280701.913405   \n",
              "geoId/04013  465567.119242  467017.617878  468789.154601  470188.977576   \n",
              "geoId/06073  903677.977515  911839.212243  922026.061494  930747.253219   \n",
              "\n",
              "                2024-06-30     2024-07-31     2024-08-31     2024-09-30  \\\n",
              "geoId/06037  853300.031599  856929.899269  862101.367502  868683.388483   \n",
              "geoId/17031  304848.668699  305508.214099  306334.939254  307007.292144   \n",
              "geoId/48201  280585.041362  280219.238295  279883.927250  279671.324691   \n",
              "geoId/04013  470357.292903  469753.783114  468639.799637  467695.338296   \n",
              "geoId/06073  935215.065410  936652.178767  936216.423469  935770.997631   \n",
              "\n",
              "                2024-10-31  \n",
              "geoId/06037  873790.400103  \n",
              "geoId/17031  307364.376614  \n",
              "geoId/48201  279308.720918  \n",
              "geoId/04013  466966.903423  \n",
              "geoId/06073  935062.165130  \n",
              "\n",
              "[5 rows x 307 columns]"
            ],
            "text/html": [
              "\n",
              "  <div id=\"df-797d9c03-aef4-4535-ba18-c6483f2db2e9\" class=\"colab-df-container\">\n",
              "    <div>\n",
              "<style scoped>\n",
              "    .dataframe tbody tr th:only-of-type {\n",
              "        vertical-align: middle;\n",
              "    }\n",
              "\n",
              "    .dataframe tbody tr th {\n",
              "        vertical-align: top;\n",
              "    }\n",
              "\n",
              "    .dataframe thead th {\n",
              "        text-align: right;\n",
              "    }\n",
              "</style>\n",
              "<table border=\"1\" class=\"dataframe\">\n",
              "  <thead>\n",
              "    <tr style=\"text-align: right;\">\n",
              "      <th></th>\n",
              "      <th>RegionID</th>\n",
              "      <th>SizeRank</th>\n",
              "      <th>RegionName</th>\n",
              "      <th>RegionType</th>\n",
              "      <th>StateName</th>\n",
              "      <th>State</th>\n",
              "      <th>Metro</th>\n",
              "      <th>StateCodeFIPS</th>\n",
              "      <th>MunicipalCodeFIPS</th>\n",
              "      <th>2000-01-31</th>\n",
              "      <th>...</th>\n",
              "      <th>2024-01-31</th>\n",
              "      <th>2024-02-29</th>\n",
              "      <th>2024-03-31</th>\n",
              "      <th>2024-04-30</th>\n",
              "      <th>2024-05-31</th>\n",
              "      <th>2024-06-30</th>\n",
              "      <th>2024-07-31</th>\n",
              "      <th>2024-08-31</th>\n",
              "      <th>2024-09-30</th>\n",
              "      <th>2024-10-31</th>\n",
              "    </tr>\n",
              "  </thead>\n",
              "  <tbody>\n",
              "    <tr>\n",
              "      <th>geoId/06037</th>\n",
              "      <td>3101</td>\n",
              "      <td>0</td>\n",
              "      <td>Los Angeles County</td>\n",
              "      <td>county</td>\n",
              "      <td>CA</td>\n",
              "      <td>CA</td>\n",
              "      <td>Los Angeles-Long Beach-Anaheim, CA</td>\n",
              "      <td>06</td>\n",
              "      <td>037</td>\n",
              "      <td>206679.102841</td>\n",
              "      <td>...</td>\n",
              "      <td>855978.867131</td>\n",
              "      <td>851218.324044</td>\n",
              "      <td>847438.710237</td>\n",
              "      <td>848072.053695</td>\n",
              "      <td>851221.654671</td>\n",
              "      <td>853300.031599</td>\n",
              "      <td>856929.899269</td>\n",
              "      <td>862101.367502</td>\n",
              "      <td>868683.388483</td>\n",
              "      <td>873790.400103</td>\n",
              "    </tr>\n",
              "    <tr>\n",
              "      <th>geoId/17031</th>\n",
              "      <td>139</td>\n",
              "      <td>1</td>\n",
              "      <td>Cook County</td>\n",
              "      <td>county</td>\n",
              "      <td>IL</td>\n",
              "      <td>IL</td>\n",
              "      <td>Chicago-Naperville-Elgin, IL-IN-WI</td>\n",
              "      <td>17</td>\n",
              "      <td>031</td>\n",
              "      <td>147770.953138</td>\n",
              "      <td>...</td>\n",
              "      <td>296336.449935</td>\n",
              "      <td>297281.192639</td>\n",
              "      <td>299300.336191</td>\n",
              "      <td>301953.165715</td>\n",
              "      <td>303791.255067</td>\n",
              "      <td>304848.668699</td>\n",
              "      <td>305508.214099</td>\n",
              "      <td>306334.939254</td>\n",
              "      <td>307007.292144</td>\n",
              "      <td>307364.376614</td>\n",
              "    </tr>\n",
              "    <tr>\n",
              "      <th>geoId/48201</th>\n",
              "      <td>1090</td>\n",
              "      <td>2</td>\n",
              "      <td>Harris County</td>\n",
              "      <td>county</td>\n",
              "      <td>TX</td>\n",
              "      <td>TX</td>\n",
              "      <td>Houston-The Woodlands-Sugar Land, TX</td>\n",
              "      <td>48</td>\n",
              "      <td>201</td>\n",
              "      <td>108332.694683</td>\n",
              "      <td>...</td>\n",
              "      <td>277636.906153</td>\n",
              "      <td>278094.301024</td>\n",
              "      <td>279085.366023</td>\n",
              "      <td>280116.831608</td>\n",
              "      <td>280701.913405</td>\n",
              "      <td>280585.041362</td>\n",
              "      <td>280219.238295</td>\n",
              "      <td>279883.927250</td>\n",
              "      <td>279671.324691</td>\n",
              "      <td>279308.720918</td>\n",
              "    </tr>\n",
              "    <tr>\n",
              "      <th>geoId/04013</th>\n",
              "      <td>2402</td>\n",
              "      <td>3</td>\n",
              "      <td>Maricopa County</td>\n",
              "      <td>county</td>\n",
              "      <td>AZ</td>\n",
              "      <td>AZ</td>\n",
              "      <td>Phoenix-Mesa-Chandler, AZ</td>\n",
              "      <td>04</td>\n",
              "      <td>013</td>\n",
              "      <td>143192.734000</td>\n",
              "      <td>...</td>\n",
              "      <td>465029.414800</td>\n",
              "      <td>465567.119242</td>\n",
              "      <td>467017.617878</td>\n",
              "      <td>468789.154601</td>\n",
              "      <td>470188.977576</td>\n",
              "      <td>470357.292903</td>\n",
              "      <td>469753.783114</td>\n",
              "      <td>468639.799637</td>\n",
              "      <td>467695.338296</td>\n",
              "      <td>466966.903423</td>\n",
              "    </tr>\n",
              "    <tr>\n",
              "      <th>geoId/06073</th>\n",
              "      <td>2841</td>\n",
              "      <td>4</td>\n",
              "      <td>San Diego County</td>\n",
              "      <td>county</td>\n",
              "      <td>CA</td>\n",
              "      <td>CA</td>\n",
              "      <td>San Diego-Chula Vista-Carlsbad, CA</td>\n",
              "      <td>06</td>\n",
              "      <td>073</td>\n",
              "      <td>213155.078588</td>\n",
              "      <td>...</td>\n",
              "      <td>899172.567276</td>\n",
              "      <td>903677.977515</td>\n",
              "      <td>911839.212243</td>\n",
              "      <td>922026.061494</td>\n",
              "      <td>930747.253219</td>\n",
              "      <td>935215.065410</td>\n",
              "      <td>936652.178767</td>\n",
              "      <td>936216.423469</td>\n",
              "      <td>935770.997631</td>\n",
              "      <td>935062.165130</td>\n",
              "    </tr>\n",
              "  </tbody>\n",
              "</table>\n",
              "<p>5 rows × 307 columns</p>\n",
              "</div>\n",
              "    <div class=\"colab-df-buttons\">\n",
              "\n",
              "  <div class=\"colab-df-container\">\n",
              "    <button class=\"colab-df-convert\" onclick=\"convertToInteractive('df-797d9c03-aef4-4535-ba18-c6483f2db2e9')\"\n",
              "            title=\"Convert this dataframe to an interactive table.\"\n",
              "            style=\"display:none;\">\n",
              "\n",
              "  <svg xmlns=\"http://www.w3.org/2000/svg\" height=\"24px\" viewBox=\"0 -960 960 960\">\n",
              "    <path d=\"M120-120v-720h720v720H120Zm60-500h600v-160H180v160Zm220 220h160v-160H400v160Zm0 220h160v-160H400v160ZM180-400h160v-160H180v160Zm440 0h160v-160H620v160ZM180-180h160v-160H180v160Zm440 0h160v-160H620v160Z\"/>\n",
              "  </svg>\n",
              "    </button>\n",
              "\n",
              "  <style>\n",
              "    .colab-df-container {\n",
              "      display:flex;\n",
              "      gap: 12px;\n",
              "    }\n",
              "\n",
              "    .colab-df-convert {\n",
              "      background-color: #E8F0FE;\n",
              "      border: none;\n",
              "      border-radius: 50%;\n",
              "      cursor: pointer;\n",
              "      display: none;\n",
              "      fill: #1967D2;\n",
              "      height: 32px;\n",
              "      padding: 0 0 0 0;\n",
              "      width: 32px;\n",
              "    }\n",
              "\n",
              "    .colab-df-convert:hover {\n",
              "      background-color: #E2EBFA;\n",
              "      box-shadow: 0px 1px 2px rgba(60, 64, 67, 0.3), 0px 1px 3px 1px rgba(60, 64, 67, 0.15);\n",
              "      fill: #174EA6;\n",
              "    }\n",
              "\n",
              "    .colab-df-buttons div {\n",
              "      margin-bottom: 4px;\n",
              "    }\n",
              "\n",
              "    [theme=dark] .colab-df-convert {\n",
              "      background-color: #3B4455;\n",
              "      fill: #D2E3FC;\n",
              "    }\n",
              "\n",
              "    [theme=dark] .colab-df-convert:hover {\n",
              "      background-color: #434B5C;\n",
              "      box-shadow: 0px 1px 3px 1px rgba(0, 0, 0, 0.15);\n",
              "      filter: drop-shadow(0px 1px 2px rgba(0, 0, 0, 0.3));\n",
              "      fill: #FFFFFF;\n",
              "    }\n",
              "  </style>\n",
              "\n",
              "    <script>\n",
              "      const buttonEl =\n",
              "        document.querySelector('#df-797d9c03-aef4-4535-ba18-c6483f2db2e9 button.colab-df-convert');\n",
              "      buttonEl.style.display =\n",
              "        google.colab.kernel.accessAllowed ? 'block' : 'none';\n",
              "\n",
              "      async function convertToInteractive(key) {\n",
              "        const element = document.querySelector('#df-797d9c03-aef4-4535-ba18-c6483f2db2e9');\n",
              "        const dataTable =\n",
              "          await google.colab.kernel.invokeFunction('convertToInteractive',\n",
              "                                                    [key], {});\n",
              "        if (!dataTable) return;\n",
              "\n",
              "        const docLinkHtml = 'Like what you see? Visit the ' +\n",
              "          '<a target=\"_blank\" href=https://colab.research.google.com/notebooks/data_table.ipynb>data table notebook</a>'\n",
              "          + ' to learn more about interactive tables.';\n",
              "        element.innerHTML = '';\n",
              "        dataTable['output_type'] = 'display_data';\n",
              "        await google.colab.output.renderOutput(dataTable, element);\n",
              "        const docLink = document.createElement('div');\n",
              "        docLink.innerHTML = docLinkHtml;\n",
              "        element.appendChild(docLink);\n",
              "      }\n",
              "    </script>\n",
              "  </div>\n",
              "\n",
              "\n",
              "<div id=\"df-653d3c62-7d4b-4d52-ab59-9025e31d5e06\">\n",
              "  <button class=\"colab-df-quickchart\" onclick=\"quickchart('df-653d3c62-7d4b-4d52-ab59-9025e31d5e06')\"\n",
              "            title=\"Suggest charts\"\n",
              "            style=\"display:none;\">\n",
              "\n",
              "<svg xmlns=\"http://www.w3.org/2000/svg\" height=\"24px\"viewBox=\"0 0 24 24\"\n",
              "     width=\"24px\">\n",
              "    <g>\n",
              "        <path d=\"M19 3H5c-1.1 0-2 .9-2 2v14c0 1.1.9 2 2 2h14c1.1 0 2-.9 2-2V5c0-1.1-.9-2-2-2zM9 17H7v-7h2v7zm4 0h-2V7h2v10zm4 0h-2v-4h2v4z\"/>\n",
              "    </g>\n",
              "</svg>\n",
              "  </button>\n",
              "\n",
              "<style>\n",
              "  .colab-df-quickchart {\n",
              "      --bg-color: #E8F0FE;\n",
              "      --fill-color: #1967D2;\n",
              "      --hover-bg-color: #E2EBFA;\n",
              "      --hover-fill-color: #174EA6;\n",
              "      --disabled-fill-color: #AAA;\n",
              "      --disabled-bg-color: #DDD;\n",
              "  }\n",
              "\n",
              "  [theme=dark] .colab-df-quickchart {\n",
              "      --bg-color: #3B4455;\n",
              "      --fill-color: #D2E3FC;\n",
              "      --hover-bg-color: #434B5C;\n",
              "      --hover-fill-color: #FFFFFF;\n",
              "      --disabled-bg-color: #3B4455;\n",
              "      --disabled-fill-color: #666;\n",
              "  }\n",
              "\n",
              "  .colab-df-quickchart {\n",
              "    background-color: var(--bg-color);\n",
              "    border: none;\n",
              "    border-radius: 50%;\n",
              "    cursor: pointer;\n",
              "    display: none;\n",
              "    fill: var(--fill-color);\n",
              "    height: 32px;\n",
              "    padding: 0;\n",
              "    width: 32px;\n",
              "  }\n",
              "\n",
              "  .colab-df-quickchart:hover {\n",
              "    background-color: var(--hover-bg-color);\n",
              "    box-shadow: 0 1px 2px rgba(60, 64, 67, 0.3), 0 1px 3px 1px rgba(60, 64, 67, 0.15);\n",
              "    fill: var(--button-hover-fill-color);\n",
              "  }\n",
              "\n",
              "  .colab-df-quickchart-complete:disabled,\n",
              "  .colab-df-quickchart-complete:disabled:hover {\n",
              "    background-color: var(--disabled-bg-color);\n",
              "    fill: var(--disabled-fill-color);\n",
              "    box-shadow: none;\n",
              "  }\n",
              "\n",
              "  .colab-df-spinner {\n",
              "    border: 2px solid var(--fill-color);\n",
              "    border-color: transparent;\n",
              "    border-bottom-color: var(--fill-color);\n",
              "    animation:\n",
              "      spin 1s steps(1) infinite;\n",
              "  }\n",
              "\n",
              "  @keyframes spin {\n",
              "    0% {\n",
              "      border-color: transparent;\n",
              "      border-bottom-color: var(--fill-color);\n",
              "      border-left-color: var(--fill-color);\n",
              "    }\n",
              "    20% {\n",
              "      border-color: transparent;\n",
              "      border-left-color: var(--fill-color);\n",
              "      border-top-color: var(--fill-color);\n",
              "    }\n",
              "    30% {\n",
              "      border-color: transparent;\n",
              "      border-left-color: var(--fill-color);\n",
              "      border-top-color: var(--fill-color);\n",
              "      border-right-color: var(--fill-color);\n",
              "    }\n",
              "    40% {\n",
              "      border-color: transparent;\n",
              "      border-right-color: var(--fill-color);\n",
              "      border-top-color: var(--fill-color);\n",
              "    }\n",
              "    60% {\n",
              "      border-color: transparent;\n",
              "      border-right-color: var(--fill-color);\n",
              "    }\n",
              "    80% {\n",
              "      border-color: transparent;\n",
              "      border-right-color: var(--fill-color);\n",
              "      border-bottom-color: var(--fill-color);\n",
              "    }\n",
              "    90% {\n",
              "      border-color: transparent;\n",
              "      border-bottom-color: var(--fill-color);\n",
              "    }\n",
              "  }\n",
              "</style>\n",
              "\n",
              "  <script>\n",
              "    async function quickchart(key) {\n",
              "      const quickchartButtonEl =\n",
              "        document.querySelector('#' + key + ' button');\n",
              "      quickchartButtonEl.disabled = true;  // To prevent multiple clicks.\n",
              "      quickchartButtonEl.classList.add('colab-df-spinner');\n",
              "      try {\n",
              "        const charts = await google.colab.kernel.invokeFunction(\n",
              "            'suggestCharts', [key], {});\n",
              "      } catch (error) {\n",
              "        console.error('Error during call to suggestCharts:', error);\n",
              "      }\n",
              "      quickchartButtonEl.classList.remove('colab-df-spinner');\n",
              "      quickchartButtonEl.classList.add('colab-df-quickchart-complete');\n",
              "    }\n",
              "    (() => {\n",
              "      let quickchartButtonEl =\n",
              "        document.querySelector('#df-653d3c62-7d4b-4d52-ab59-9025e31d5e06 button');\n",
              "      quickchartButtonEl.style.display =\n",
              "        google.colab.kernel.accessAllowed ? 'block' : 'none';\n",
              "    })();\n",
              "  </script>\n",
              "</div>\n",
              "\n",
              "    </div>\n",
              "  </div>\n"
            ],
            "application/vnd.google.colaboratory.intrinsic+json": {
              "type": "dataframe",
              "variable_name": "zhvi_df"
            }
          },
          "metadata": {},
          "execution_count": 5
        }
      ],
      "source": [
        "zhvi_df = pd.read_csv(\n",
        "    zhvi_file, dtype={\"StateCodeFIPS\": \"string\", \"MunicipalCodeFIPS\": \"string\"}\n",
        ")\n",
        "zhvi_df.index = \"geoId/\" + zhvi_df[\"StateCodeFIPS\"] + zhvi_df[\"MunicipalCodeFIPS\"]\n",
        "zhvi_df.head()"
      ]
    },
    {
      "cell_type": "markdown",
      "metadata": {
        "id": "dUyrHsy3Cap2"
      },
      "source": [
        "## Request access to PDFM Embeddings\n",
        "\n",
        "To request access to PDFM embeddings, please follow the instructions [here](https://github.com/google-research/population-dynamics?tab=readme-ov-file#getting-access-to-the-embeddings)."
      ]
    },
    {
      "cell_type": "code",
      "execution_count": 10,
      "metadata": {
        "id": "9qajutTaCap2",
        "outputId": "d8a91995-e954-4024-f5c8-66bff2ffe572",
        "colab": {
          "base_uri": "https://localhost:8080/",
          "height": 176
        }
      },
      "outputs": [
        {
          "output_type": "error",
          "ename": "FileNotFoundError",
          "evalue": "Please request the embeddings from Google",
          "traceback": [
            "\u001b[0;31m---------------------------------------------------------------------------\u001b[0m",
            "\u001b[0;31mFileNotFoundError\u001b[0m                         Traceback (most recent call last)",
            "\u001b[0;32m<ipython-input-10-39248edf1890>\u001b[0m in \u001b[0;36m<cell line: 0>\u001b[0;34m()\u001b[0m\n\u001b[1;32m      1\u001b[0m \u001b[0mcounty_geojson\u001b[0m \u001b[0;34m=\u001b[0m \u001b[0;34m\"data/county.geojson\"\u001b[0m\u001b[0;34m\u001b[0m\u001b[0;34m\u001b[0m\u001b[0m\n\u001b[1;32m      2\u001b[0m \u001b[0;32mif\u001b[0m \u001b[0;32mnot\u001b[0m \u001b[0mos\u001b[0m\u001b[0;34m.\u001b[0m\u001b[0mpath\u001b[0m\u001b[0;34m.\u001b[0m\u001b[0mexists\u001b[0m\u001b[0;34m(\u001b[0m\u001b[0mcounty_geojson\u001b[0m\u001b[0;34m)\u001b[0m\u001b[0;34m:\u001b[0m\u001b[0;34m\u001b[0m\u001b[0;34m\u001b[0m\u001b[0m\n\u001b[0;32m----> 3\u001b[0;31m     \u001b[0;32mraise\u001b[0m \u001b[0mFileNotFoundError\u001b[0m\u001b[0;34m(\u001b[0m\u001b[0;34m\"Please request the embeddings from Google\"\u001b[0m\u001b[0;34m)\u001b[0m\u001b[0;34m\u001b[0m\u001b[0;34m\u001b[0m\u001b[0m\n\u001b[0m",
            "\u001b[0;31mFileNotFoundError\u001b[0m: Please request the embeddings from Google"
          ]
        }
      ],
      "source": [
        "county_geojson = \"data/county.geojson\"\n",
        "if not os.path.exists(county_geojson):\n",
        "    raise FileNotFoundError(\"Please request the embeddings from Google\")"
      ]
    },
    {
      "cell_type": "markdown",
      "metadata": {
        "id": "K23Zo5GQCap2"
      },
      "source": [
        "## Load county boundaries"
      ]
    },
    {
      "cell_type": "code",
      "execution_count": 11,
      "metadata": {
        "id": "FdvjohxbCap2",
        "outputId": "7a9d712d-9945-4817-c48b-47f4d893aeb2",
        "colab": {
          "base_uri": "https://localhost:8080/",
          "height": 426
        }
      },
      "outputs": [
        {
          "output_type": "error",
          "ename": "DataSourceError",
          "evalue": "data/county.geojson: No such file or directory",
          "traceback": [
            "\u001b[0;31m---------------------------------------------------------------------------\u001b[0m",
            "\u001b[0;31mDataSourceError\u001b[0m                           Traceback (most recent call last)",
            "\u001b[0;32m<ipython-input-11-99d946df8809>\u001b[0m in \u001b[0;36m<cell line: 0>\u001b[0;34m()\u001b[0m\n\u001b[0;32m----> 1\u001b[0;31m \u001b[0mcounty_gdf\u001b[0m \u001b[0;34m=\u001b[0m \u001b[0mgpd\u001b[0m\u001b[0;34m.\u001b[0m\u001b[0mread_file\u001b[0m\u001b[0;34m(\u001b[0m\u001b[0mcounty_geojson\u001b[0m\u001b[0;34m)\u001b[0m\u001b[0;34m\u001b[0m\u001b[0;34m\u001b[0m\u001b[0m\n\u001b[0m\u001b[1;32m      2\u001b[0m \u001b[0mcounty_gdf\u001b[0m\u001b[0;34m.\u001b[0m\u001b[0mset_index\u001b[0m\u001b[0;34m(\u001b[0m\u001b[0;34m\"place\"\u001b[0m\u001b[0;34m,\u001b[0m \u001b[0minplace\u001b[0m\u001b[0;34m=\u001b[0m\u001b[0;32mTrue\u001b[0m\u001b[0;34m)\u001b[0m\u001b[0;34m\u001b[0m\u001b[0;34m\u001b[0m\u001b[0m\n\u001b[1;32m      3\u001b[0m \u001b[0mcounty_gdf\u001b[0m\u001b[0;34m.\u001b[0m\u001b[0mhead\u001b[0m\u001b[0;34m(\u001b[0m\u001b[0;34m)\u001b[0m\u001b[0;34m\u001b[0m\u001b[0;34m\u001b[0m\u001b[0m\n",
            "\u001b[0;32m/usr/local/lib/python3.11/dist-packages/geopandas/io/file.py\u001b[0m in \u001b[0;36m_read_file\u001b[0;34m(filename, bbox, mask, columns, rows, engine, **kwargs)\u001b[0m\n\u001b[1;32m    292\u001b[0m \u001b[0;34m\u001b[0m\u001b[0m\n\u001b[1;32m    293\u001b[0m     \u001b[0;32mif\u001b[0m \u001b[0mengine\u001b[0m \u001b[0;34m==\u001b[0m \u001b[0;34m\"pyogrio\"\u001b[0m\u001b[0;34m:\u001b[0m\u001b[0;34m\u001b[0m\u001b[0;34m\u001b[0m\u001b[0m\n\u001b[0;32m--> 294\u001b[0;31m         return _read_file_pyogrio(\n\u001b[0m\u001b[1;32m    295\u001b[0m             \u001b[0mfilename\u001b[0m\u001b[0;34m,\u001b[0m \u001b[0mbbox\u001b[0m\u001b[0;34m=\u001b[0m\u001b[0mbbox\u001b[0m\u001b[0;34m,\u001b[0m \u001b[0mmask\u001b[0m\u001b[0;34m=\u001b[0m\u001b[0mmask\u001b[0m\u001b[0;34m,\u001b[0m \u001b[0mcolumns\u001b[0m\u001b[0;34m=\u001b[0m\u001b[0mcolumns\u001b[0m\u001b[0;34m,\u001b[0m \u001b[0mrows\u001b[0m\u001b[0;34m=\u001b[0m\u001b[0mrows\u001b[0m\u001b[0;34m,\u001b[0m \u001b[0;34m**\u001b[0m\u001b[0mkwargs\u001b[0m\u001b[0;34m\u001b[0m\u001b[0;34m\u001b[0m\u001b[0m\n\u001b[1;32m    296\u001b[0m         )\n",
            "\u001b[0;32m/usr/local/lib/python3.11/dist-packages/geopandas/io/file.py\u001b[0m in \u001b[0;36m_read_file_pyogrio\u001b[0;34m(path_or_bytes, bbox, mask, rows, **kwargs)\u001b[0m\n\u001b[1;32m    545\u001b[0m         \u001b[0mkwargs\u001b[0m\u001b[0;34m[\u001b[0m\u001b[0;34m\"columns\"\u001b[0m\u001b[0;34m]\u001b[0m \u001b[0;34m=\u001b[0m \u001b[0mkwargs\u001b[0m\u001b[0;34m.\u001b[0m\u001b[0mpop\u001b[0m\u001b[0;34m(\u001b[0m\u001b[0;34m\"include_fields\"\u001b[0m\u001b[0;34m)\u001b[0m\u001b[0;34m\u001b[0m\u001b[0;34m\u001b[0m\u001b[0m\n\u001b[1;32m    546\u001b[0m \u001b[0;34m\u001b[0m\u001b[0m\n\u001b[0;32m--> 547\u001b[0;31m     \u001b[0;32mreturn\u001b[0m \u001b[0mpyogrio\u001b[0m\u001b[0;34m.\u001b[0m\u001b[0mread_dataframe\u001b[0m\u001b[0;34m(\u001b[0m\u001b[0mpath_or_bytes\u001b[0m\u001b[0;34m,\u001b[0m \u001b[0mbbox\u001b[0m\u001b[0;34m=\u001b[0m\u001b[0mbbox\u001b[0m\u001b[0;34m,\u001b[0m \u001b[0;34m**\u001b[0m\u001b[0mkwargs\u001b[0m\u001b[0;34m)\u001b[0m\u001b[0;34m\u001b[0m\u001b[0;34m\u001b[0m\u001b[0m\n\u001b[0m\u001b[1;32m    548\u001b[0m \u001b[0;34m\u001b[0m\u001b[0m\n\u001b[1;32m    549\u001b[0m \u001b[0;34m\u001b[0m\u001b[0m\n",
            "\u001b[0;32m/usr/local/lib/python3.11/dist-packages/pyogrio/geopandas.py\u001b[0m in \u001b[0;36mread_dataframe\u001b[0;34m(path_or_buffer, layer, encoding, columns, read_geometry, force_2d, skip_features, max_features, where, bbox, mask, fids, sql, sql_dialect, fid_as_index, use_arrow, on_invalid, arrow_to_pandas_kwargs, **kwargs)\u001b[0m\n\u001b[1;32m    263\u001b[0m         \u001b[0;31m# as numpy does not directly support timezones.\u001b[0m\u001b[0;34m\u001b[0m\u001b[0;34m\u001b[0m\u001b[0m\n\u001b[1;32m    264\u001b[0m         \u001b[0mkwargs\u001b[0m\u001b[0;34m[\u001b[0m\u001b[0;34m\"datetime_as_string\"\u001b[0m\u001b[0;34m]\u001b[0m \u001b[0;34m=\u001b[0m \u001b[0;32mTrue\u001b[0m\u001b[0;34m\u001b[0m\u001b[0;34m\u001b[0m\u001b[0m\n\u001b[0;32m--> 265\u001b[0;31m     result = read_func(\n\u001b[0m\u001b[1;32m    266\u001b[0m         \u001b[0mpath_or_buffer\u001b[0m\u001b[0;34m,\u001b[0m\u001b[0;34m\u001b[0m\u001b[0;34m\u001b[0m\u001b[0m\n\u001b[1;32m    267\u001b[0m         \u001b[0mlayer\u001b[0m\u001b[0;34m=\u001b[0m\u001b[0mlayer\u001b[0m\u001b[0;34m,\u001b[0m\u001b[0;34m\u001b[0m\u001b[0;34m\u001b[0m\u001b[0m\n",
            "\u001b[0;32m/usr/local/lib/python3.11/dist-packages/pyogrio/raw.py\u001b[0m in \u001b[0;36mread\u001b[0;34m(path_or_buffer, layer, encoding, columns, read_geometry, force_2d, skip_features, max_features, where, bbox, mask, fids, sql, sql_dialect, return_fids, datetime_as_string, **kwargs)\u001b[0m\n\u001b[1;32m    196\u001b[0m     \u001b[0mdataset_kwargs\u001b[0m \u001b[0;34m=\u001b[0m \u001b[0m_preprocess_options_key_value\u001b[0m\u001b[0;34m(\u001b[0m\u001b[0mkwargs\u001b[0m\u001b[0;34m)\u001b[0m \u001b[0;32mif\u001b[0m \u001b[0mkwargs\u001b[0m \u001b[0;32melse\u001b[0m \u001b[0;34m{\u001b[0m\u001b[0;34m}\u001b[0m\u001b[0;34m\u001b[0m\u001b[0;34m\u001b[0m\u001b[0m\n\u001b[1;32m    197\u001b[0m \u001b[0;34m\u001b[0m\u001b[0m\n\u001b[0;32m--> 198\u001b[0;31m     return ogr_read(\n\u001b[0m\u001b[1;32m    199\u001b[0m         \u001b[0mget_vsi_path_or_buffer\u001b[0m\u001b[0;34m(\u001b[0m\u001b[0mpath_or_buffer\u001b[0m\u001b[0;34m)\u001b[0m\u001b[0;34m,\u001b[0m\u001b[0;34m\u001b[0m\u001b[0;34m\u001b[0m\u001b[0m\n\u001b[1;32m    200\u001b[0m         \u001b[0mlayer\u001b[0m\u001b[0;34m=\u001b[0m\u001b[0mlayer\u001b[0m\u001b[0;34m,\u001b[0m\u001b[0;34m\u001b[0m\u001b[0;34m\u001b[0m\u001b[0m\n",
            "\u001b[0;32mpyogrio/_io.pyx\u001b[0m in \u001b[0;36mpyogrio._io.ogr_read\u001b[0;34m()\u001b[0m\n",
            "\u001b[0;32mpyogrio/_io.pyx\u001b[0m in \u001b[0;36mpyogrio._io.ogr_open\u001b[0;34m()\u001b[0m\n",
            "\u001b[0;31mDataSourceError\u001b[0m: data/county.geojson: No such file or directory"
          ]
        }
      ],
      "source": [
        "county_gdf = gpd.read_file(county_geojson)\n",
        "county_gdf.set_index(\"place\", inplace=True)\n",
        "county_gdf.head()"
      ]
    },
    {
      "cell_type": "markdown",
      "metadata": {
        "id": "9QsgBjXRCap2"
      },
      "source": [
        "## Join home value data and county boundaries"
      ]
    },
    {
      "cell_type": "code",
      "execution_count": null,
      "metadata": {
        "id": "hgQ2RpbRCap3"
      },
      "outputs": [],
      "source": [
        "df = zhvi_df.join(county_gdf)\n",
        "zhvi_gdf = gpd.GeoDataFrame(df, geometry=\"geometry\")\n",
        "zhvi_gdf.head()"
      ]
    },
    {
      "cell_type": "code",
      "execution_count": null,
      "metadata": {
        "id": "Qo2DTEoNCap3"
      },
      "outputs": [],
      "source": [
        "column = \"2024-10-31\"\n",
        "gdf = zhvi_gdf[[\"RegionName\", \"State\", column, \"geometry\"]]\n",
        "gdf.head()"
      ]
    },
    {
      "cell_type": "markdown",
      "metadata": {
        "id": "KQ9ryj_zCap3"
      },
      "source": [
        "## Visualize home values in 2D"
      ]
    },
    {
      "cell_type": "code",
      "execution_count": null,
      "metadata": {
        "id": "OTovFiC4Cap3"
      },
      "outputs": [],
      "source": [
        "m = leafmap.Map(style=\"liberty\")\n",
        "first_symbol_id = m.find_first_symbol_layer()[\"id\"]\n",
        "m.add_data(\n",
        "    gdf,\n",
        "    cmap=\"Blues\",\n",
        "    column=column,\n",
        "    legend_title=\"Median Home Value\",\n",
        "    name=\"Median Home Value\",\n",
        "    before_id=first_symbol_id,\n",
        ")\n",
        "m.add_layer_control()\n",
        "m"
      ]
    },
    {
      "cell_type": "markdown",
      "metadata": {
        "id": "Cs558KbhCap3"
      },
      "source": [
        "![image](https://github.com/user-attachments/assets/df616803-87e9-4326-be8c-9de5a72a2d95)"
      ]
    },
    {
      "cell_type": "markdown",
      "metadata": {
        "id": "qq9v5G0tCap4"
      },
      "source": [
        "## Visualize home values in 3D"
      ]
    },
    {
      "cell_type": "code",
      "execution_count": null,
      "metadata": {
        "id": "cPL09kKOCap4"
      },
      "outputs": [],
      "source": [
        "m = leafmap.Map(style=\"liberty\", pitch=60)\n",
        "m.add_data(\n",
        "    gdf,\n",
        "    cmap=\"Blues\",\n",
        "    column=column,\n",
        "    legend_title=\"Median Home Value\",\n",
        "    extrude=True,\n",
        "    scale_factor=3,\n",
        "    before_id=first_symbol_id,\n",
        "    name=\"Median Home Value\",\n",
        ")\n",
        "m.add_layer_control()\n",
        "m"
      ]
    },
    {
      "cell_type": "markdown",
      "metadata": {
        "id": "97lWAZUtCap4"
      },
      "source": [
        "![image](https://github.com/user-attachments/assets/65f085bb-b781-41b8-8408-440ed202b766)"
      ]
    },
    {
      "cell_type": "markdown",
      "metadata": {
        "id": "Q1YjEunRCap5"
      },
      "source": [
        "## Load PDFM county embeddings"
      ]
    },
    {
      "cell_type": "code",
      "execution_count": null,
      "metadata": {
        "id": "c8lArJvwCap5"
      },
      "outputs": [],
      "source": [
        "embeddings_file_path = \"data/county_embeddings.csv\""
      ]
    },
    {
      "cell_type": "code",
      "execution_count": null,
      "metadata": {
        "id": "9BtFtLsECap6"
      },
      "outputs": [],
      "source": [
        "embeddings_df = pd.read_csv(embeddings_file_path).set_index(\"place\")\n",
        "embeddings_df.head()"
      ]
    },
    {
      "cell_type": "code",
      "execution_count": null,
      "metadata": {
        "id": "mrOqd86tCap6"
      },
      "outputs": [],
      "source": [
        "df = embeddings_df.join(county_gdf)\n",
        "embeddings_gdf = gpd.GeoDataFrame(df, geometry=\"geometry\")\n",
        "embeddings_gdf.head()"
      ]
    },
    {
      "cell_type": "markdown",
      "metadata": {
        "id": "A41wHIwSCap6"
      },
      "source": [
        "## Visualize PDFM features\n",
        "\n",
        "Select any of the 329 PDFM features to visualize."
      ]
    },
    {
      "cell_type": "code",
      "execution_count": null,
      "metadata": {
        "id": "w0x88e-KCap6"
      },
      "outputs": [],
      "source": [
        "column = \"feature329\"  # Change this to the feature you want to use\n",
        "gdf = embeddings_gdf[[column, \"state\", \"county\", \"geometry\"]]\n",
        "gdf.head()"
      ]
    },
    {
      "cell_type": "code",
      "execution_count": null,
      "metadata": {
        "id": "uSLaos5wCap6"
      },
      "outputs": [],
      "source": [
        "m = leafmap.Map(style=\"liberty\")\n",
        "m.add_data(\n",
        "    gdf,\n",
        "    cmap=\"Blues\",\n",
        "    column=column,\n",
        "    legend_title=column,\n",
        "    before_id=first_symbol_id,\n",
        "    name=column,\n",
        ")\n",
        "m.add_layer_control()\n",
        "m"
      ]
    },
    {
      "cell_type": "markdown",
      "metadata": {
        "id": "3N5Ju_XRCap6"
      },
      "source": [
        "![image](https://github.com/user-attachments/assets/efa4983d-89d2-4dcc-9cd6-fefeee069bf7)"
      ]
    },
    {
      "cell_type": "code",
      "execution_count": null,
      "metadata": {
        "id": "9orGRrwkCap7"
      },
      "outputs": [],
      "source": [
        "m = leafmap.Map(style=\"liberty\", pitch=60)\n",
        "m.add_data(\n",
        "    gdf,\n",
        "    cmap=\"Blues\",\n",
        "    column=column,\n",
        "    legend_title=column,\n",
        "    before_id=first_symbol_id,\n",
        "    name=column,\n",
        "    extrude=True,\n",
        "    scale_factor=0.00005,\n",
        ")\n",
        "m.add_layer_control()\n",
        "m"
      ]
    },
    {
      "cell_type": "markdown",
      "metadata": {
        "id": "gPEspEa_Cap7"
      },
      "source": [
        "![image](https://github.com/user-attachments/assets/fd1b233b-2be0-47c3-b2d0-f53601020604)"
      ]
    },
    {
      "cell_type": "markdown",
      "metadata": {
        "id": "gdH0X4sUCap7"
      },
      "source": [
        "## Join Zillow and PDFM Data"
      ]
    },
    {
      "cell_type": "code",
      "execution_count": null,
      "metadata": {
        "id": "CCOO1YguCap7"
      },
      "outputs": [],
      "source": [
        "data = zhvi_df.join(embeddings_df, how=\"inner\")\n",
        "data.head()"
      ]
    },
    {
      "cell_type": "code",
      "execution_count": null,
      "metadata": {
        "id": "s117O5hqCap7"
      },
      "outputs": [],
      "source": [
        "embedding_features = [f\"feature{x}\" for x in range(330)]\n",
        "label = \"2024-10-31\"  # Change this to the date you want to predict"
      ]
    },
    {
      "cell_type": "code",
      "execution_count": null,
      "metadata": {
        "id": "3qcKG0dZCap7"
      },
      "outputs": [],
      "source": [
        "data = data.dropna(subset=[label])"
      ]
    },
    {
      "cell_type": "markdown",
      "metadata": {
        "id": "sEa2YTXNCap8"
      },
      "source": [
        "## Split Train and Test Data"
      ]
    },
    {
      "cell_type": "code",
      "execution_count": null,
      "metadata": {
        "id": "YkB2mkbhCap8"
      },
      "outputs": [],
      "source": [
        "data = data[embedding_features + [label]]\n",
        "X = data[embedding_features]\n",
        "y = data[label]\n",
        "\n",
        "X_train, X_test, y_train, y_test = train_test_split(\n",
        "    X, y, test_size=0.2, random_state=42\n",
        ")"
      ]
    },
    {
      "cell_type": "markdown",
      "metadata": {
        "id": "dBKqmOhzCap8"
      },
      "source": [
        "## Fit Linear Regression Model"
      ]
    },
    {
      "cell_type": "code",
      "execution_count": null,
      "metadata": {
        "id": "iVLXthqtCaqB"
      },
      "outputs": [],
      "source": [
        "model = LinearRegression()\n",
        "model.fit(X_train, y_train)\n",
        "y_pred = model.predict(X_test)"
      ]
    },
    {
      "cell_type": "markdown",
      "metadata": {
        "id": "Oje8bHSGCaqB"
      },
      "source": [
        "## Evaluate Linear Regression Model"
      ]
    },
    {
      "cell_type": "code",
      "execution_count": null,
      "metadata": {
        "id": "9V14VfZpCaqB"
      },
      "outputs": [],
      "source": [
        "evaluation_df = pd.DataFrame({\"y\": y_test, \"y_pred\": y_pred})\n",
        "metrics = evaluate_model(evaluation_df)\n",
        "print(metrics)"
      ]
    },
    {
      "cell_type": "code",
      "execution_count": null,
      "metadata": {
        "id": "u_Vn0jyNCaqC"
      },
      "outputs": [],
      "source": [
        "xy_lim = (0, 1_000_000)\n",
        "plot_actual_vs_predicted(\n",
        "    evaluation_df,\n",
        "    xlim=xy_lim,\n",
        "    ylim=xy_lim,\n",
        "    title=\"Actual vs Predicted Home Values\",\n",
        "    x_label=\"Actual Home Value\",\n",
        "    y_label=\"Predicted Home Value\",\n",
        ")"
      ]
    },
    {
      "cell_type": "markdown",
      "metadata": {
        "id": "Yv4-GlkrCaqC"
      },
      "source": [
        "![image](https://github.com/user-attachments/assets/a16a15c6-508b-40c9-aa57-8e98b8b8e216)"
      ]
    },
    {
      "cell_type": "markdown",
      "metadata": {
        "id": "Zd0cvR-BCaqC"
      },
      "source": [
        "## Join predicted values with county boundaries"
      ]
    },
    {
      "cell_type": "code",
      "execution_count": null,
      "metadata": {
        "id": "kJAj3-AACaqC"
      },
      "outputs": [],
      "source": [
        "df = evaluation_df.join(gdf)\n",
        "df[\"difference\"] = df[\"y_pred\"] - df[\"y\"]\n",
        "evaluation_gdf = gpd.GeoDataFrame(df, geometry=\"geometry\")\n",
        "evaluation_gdf.drop(columns=[\"category\", \"color\", column], inplace=True)\n",
        "evaluation_gdf.head()"
      ]
    },
    {
      "cell_type": "markdown",
      "metadata": {
        "id": "sQflVqDyCaqC"
      },
      "source": [
        "## Visualize actual home values"
      ]
    },
    {
      "cell_type": "code",
      "execution_count": null,
      "metadata": {
        "id": "WDUNa7iwCaqC"
      },
      "outputs": [],
      "source": [
        "m = leafmap.Map(style=\"liberty\", pitch=60)\n",
        "m.add_data(\n",
        "    evaluation_gdf,\n",
        "    cmap=\"Blues\",\n",
        "    column=\"y\",\n",
        "    legend_title=\"Actual Home Value\",\n",
        "    before_id=first_symbol_id,\n",
        "    name=\"Actual Home Value\",\n",
        "    extrude=True,\n",
        "    scale_factor=3,\n",
        ")\n",
        "m.add_layer_control()\n",
        "m"
      ]
    },
    {
      "cell_type": "markdown",
      "metadata": {
        "id": "_HO6WAYxCaqD"
      },
      "source": [
        "![image](https://github.com/user-attachments/assets/a86401d5-defd-4277-877b-c8f8c5e07651)"
      ]
    },
    {
      "cell_type": "markdown",
      "metadata": {
        "id": "jVVeR96KCaqD"
      },
      "source": [
        "## Visualize predicted home values"
      ]
    },
    {
      "cell_type": "code",
      "execution_count": null,
      "metadata": {
        "id": "n3dZTohhCaqD"
      },
      "outputs": [],
      "source": [
        "m = leafmap.Map(style=\"liberty\", pitch=60)\n",
        "m.add_data(\n",
        "    evaluation_gdf,\n",
        "    cmap=\"Blues\",\n",
        "    column=\"y_pred\",\n",
        "    legend_title=\"Predicted Home Value\",\n",
        "    before_id=first_symbol_id,\n",
        "    name=\"Predicted Home Value\",\n",
        "    extrude=True,\n",
        "    scale_factor=3,\n",
        ")\n",
        "m.add_layer_control()\n",
        "m"
      ]
    },
    {
      "cell_type": "markdown",
      "metadata": {
        "id": "hCwaR_24CaqD"
      },
      "source": [
        "![image](https://github.com/user-attachments/assets/6bfe1c89-968e-4eef-84cc-98bcf07c8acb)"
      ]
    },
    {
      "cell_type": "markdown",
      "metadata": {
        "id": "oX0HeuLjCaqD"
      },
      "source": [
        "## Visualize difference between predicted and actual home values"
      ]
    },
    {
      "cell_type": "code",
      "execution_count": null,
      "metadata": {
        "id": "huo-qY0YCaqD"
      },
      "outputs": [],
      "source": [
        "m = leafmap.Map(style=\"liberty\", pitch=60)\n",
        "m.add_data(\n",
        "    evaluation_gdf,\n",
        "    cmap=\"coolwarm\",\n",
        "    column=\"difference\",\n",
        "    legend_title=\"y_pred-y\",\n",
        "    before_id=first_symbol_id,\n",
        "    name=\"Difference\",\n",
        "    extrude=True,\n",
        "    scale_factor=3,\n",
        ")\n",
        "m.add_layer_control()\n",
        "m"
      ]
    },
    {
      "cell_type": "markdown",
      "metadata": {
        "id": "2TlsXXuLCaqE"
      },
      "source": [
        "![image](https://github.com/user-attachments/assets/4ae58eb1-ab28-49e5-b352-d769a32d3e5c)"
      ]
    }
  ],
  "metadata": {
    "kernelspec": {
      "display_name": "Python 3 (ipykernel)",
      "language": "python",
      "name": "python3"
    },
    "language_info": {
      "codemirror_mode": {
        "name": "ipython",
        "version": 3
      },
      "file_extension": ".py",
      "mimetype": "text/x-python",
      "name": "python",
      "nbconvert_exporter": "python",
      "pygments_lexer": "ipython3",
      "version": "3.11.9"
    },
    "colab": {
      "provenance": []
    }
  },
  "nbformat": 4,
  "nbformat_minor": 0
}